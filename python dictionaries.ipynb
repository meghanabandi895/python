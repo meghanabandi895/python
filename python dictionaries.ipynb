{
 "cells": [
  {
   "cell_type": "markdown",
   "id": "305a811a",
   "metadata": {},
   "source": [
    "## Dictionary\n",
    "Dictionaries are used to store data values in key:value pairs."
   ]
  },
  {
   "cell_type": "raw",
   "id": "8215bf3b",
   "metadata": {},
   "source": [
    "A dictionary is a collection which is ordered*, changeable and do not allow duplicates.\n",
    "Dictionaries are written with curly brackets, and have keys and values:"
   ]
  },
  {
   "cell_type": "markdown",
   "id": "a4ea4c0d",
   "metadata": {},
   "source": [
    "#### Creating dictionaries"
   ]
  },
  {
   "cell_type": "code",
   "execution_count": 12,
   "id": "cf4bd1ff",
   "metadata": {},
   "outputs": [
    {
     "name": "stdout",
     "output_type": "stream",
     "text": [
      "{'name': 'meghana', 'age': 21, 'empid': 9}\n"
     ]
    }
   ],
   "source": [
    "empty_dict={}\n",
    "emp = {'name':'meghana','age':21,'empid':9}\n",
    "print(emp)"
   ]
  },
  {
   "cell_type": "code",
   "execution_count": 19,
   "id": "69fb692f",
   "metadata": {},
   "outputs": [
    {
     "name": "stdout",
     "output_type": "stream",
     "text": [
      "{'name': 'meghana', 'age': 21, 'empids': [9, 8]}\n"
     ]
    }
   ],
   "source": [
    "mixed_dict = {\n",
    "    'name':'meghana',\n",
    "    'age' : 21,\n",
    "    'empids':[9,8]\n",
    "}\n",
    "print(mixed_dict)"
   ]
  },
  {
   "cell_type": "markdown",
   "id": "55912ff0",
   "metadata": {},
   "source": [
    "##### Accessing values"
   ]
  },
  {
   "cell_type": "markdown",
   "id": "c8e79fe6",
   "metadata": {},
   "source": [
    "you can access the values in a dictionary using keys"
   ]
  },
  {
   "cell_type": "code",
   "execution_count": 20,
   "id": "b8bf2a88",
   "metadata": {},
   "outputs": [
    {
     "name": "stdout",
     "output_type": "stream",
     "text": [
      "meghana\n",
      "[9, 8]\n"
     ]
    }
   ],
   "source": [
    "print(emp['name'])\n",
    "print(mixed_dict['empids'])"
   ]
  },
  {
   "cell_type": "markdown",
   "id": "5940d7d6",
   "metadata": {},
   "source": [
    "#### Modifying and adding"
   ]
  },
  {
   "cell_type": "code",
   "execution_count": 23,
   "id": "ea193f9a",
   "metadata": {},
   "outputs": [
    {
     "name": "stdout",
     "output_type": "stream",
     "text": [
      "{'name': 'meghana', 'age': 23, 'empid': 9, 'gender': 'female', 'type': 'permanent'}\n",
      "{'name': 'meghana', 'age': 23, 'empid': 9, 'gender': 'female', 'type': 'permanent', 'salary': 50000}\n"
     ]
    }
   ],
   "source": [
    "#modifying\n",
    "emp[\"age\"]=23\n",
    "print(emp)\n",
    "\n",
    "#adding\n",
    "emp['gender']='female'\n",
    "emp['type']='permanent'\n",
    "emp['salary']=50000\n",
    "print(emp)"
   ]
  },
  {
   "cell_type": "markdown",
   "id": "778dee69",
   "metadata": {},
   "source": [
    "#### Dictionary methods"
   ]
  },
  {
   "cell_type": "markdown",
   "id": "3b087ece",
   "metadata": {},
   "source": [
    "###### 1.get()\n",
    "returns the value of a specified key.It allows you to provide a default value if the key is not found"
   ]
  },
  {
   "cell_type": "code",
   "execution_count": 24,
   "id": "9d8925c9",
   "metadata": {},
   "outputs": [
    {
     "name": "stdout",
     "output_type": "stream",
     "text": [
      "50000\n",
      "no location\n",
      "23\n"
     ]
    }
   ],
   "source": [
    "m = emp.get('salary','no salary')\n",
    "i = emp.get('location','no location')\n",
    "u = emp.get('age','not specified')\n",
    "print(m)\n",
    "print(i)\n",
    "print(u)"
   ]
  },
  {
   "cell_type": "markdown",
   "id": "b2f6a039",
   "metadata": {},
   "source": [
    "###### 2.keys()\n",
    "returns a view of all keys in the dictionary"
   ]
  },
  {
   "cell_type": "code",
   "execution_count": 26,
   "id": "27c25bf2",
   "metadata": {},
   "outputs": [
    {
     "name": "stdout",
     "output_type": "stream",
     "text": [
      "dict_keys(['name', 'age', 'empid', 'gender', 'type', 'salary'])\n"
     ]
    }
   ],
   "source": [
    "keys=emp.keys()\n",
    "print(keys)"
   ]
  },
  {
   "cell_type": "markdown",
   "id": "45483361",
   "metadata": {},
   "source": [
    "###### 3.values()\n",
    "returns a view of all values in the dictionary"
   ]
  },
  {
   "cell_type": "code",
   "execution_count": 27,
   "id": "dfb3fa5a",
   "metadata": {},
   "outputs": [
    {
     "name": "stdout",
     "output_type": "stream",
     "text": [
      "dict_values(['meghana', 23, 9, 'female', 'permanent', 50000])\n"
     ]
    }
   ],
   "source": [
    "values=emp.values()\n",
    "print(values)"
   ]
  },
  {
   "cell_type": "markdown",
   "id": "92ae9b72",
   "metadata": {},
   "source": [
    "###### 4.items()\n",
    "returns a view of all key-value pairs as tuples"
   ]
  },
  {
   "cell_type": "code",
   "execution_count": 29,
   "id": "a0924d34",
   "metadata": {},
   "outputs": [
    {
     "name": "stdout",
     "output_type": "stream",
     "text": [
      "dict_items([('name', 'meghana'), ('age', 23), ('empid', 9), ('gender', 'female'), ('type', 'permanent'), ('salary', 50000)])\n"
     ]
    }
   ],
   "source": [
    "items=emp.items()\n",
    "print(items)"
   ]
  },
  {
   "cell_type": "markdown",
   "id": "0de6b04a",
   "metadata": {},
   "source": [
    "###### 5.pop()\n",
    "removes and returns the value for a specified key"
   ]
  },
  {
   "cell_type": "code",
   "execution_count": 30,
   "id": "02fcd73c",
   "metadata": {},
   "outputs": [
    {
     "name": "stdout",
     "output_type": "stream",
     "text": [
      "{'name': 'meghana', 'age': 21, 'empids': [9, 8]}\n"
     ]
    }
   ],
   "source": [
    "mixed_dict = {\n",
    "    'name':'meghana',\n",
    "    'age' : 21,\n",
    "    'empids':[9,8]\n",
    "}\n",
    "print(mixed_dict)"
   ]
  },
  {
   "cell_type": "code",
   "execution_count": 32,
   "id": "b55163ff",
   "metadata": {},
   "outputs": [
    {
     "name": "stdout",
     "output_type": "stream",
     "text": [
      "meghana\n"
     ]
    }
   ],
   "source": [
    "name = mixed_dict.pop('name')\n",
    "print(name)"
   ]
  },
  {
   "cell_type": "code",
   "execution_count": 33,
   "id": "dc24df64",
   "metadata": {},
   "outputs": [
    {
     "ename": "TypeError",
     "evalue": "pop expected at least 1 argument, got 0",
     "output_type": "error",
     "traceback": [
      "\u001b[1;31m---------------------------------------------------------------------------\u001b[0m",
      "\u001b[1;31mTypeError\u001b[0m                                 Traceback (most recent call last)",
      "Cell \u001b[1;32mIn[33], line 1\u001b[0m\n\u001b[1;32m----> 1\u001b[0m name \u001b[38;5;241m=\u001b[39m \u001b[43mmixed_dict\u001b[49m\u001b[38;5;241;43m.\u001b[39;49m\u001b[43mpop\u001b[49m\u001b[43m(\u001b[49m\u001b[43m)\u001b[49m\n\u001b[0;32m      2\u001b[0m \u001b[38;5;28mprint\u001b[39m(name)\n",
      "\u001b[1;31mTypeError\u001b[0m: pop expected at least 1 argument, got 0"
     ]
    }
   ],
   "source": [
    "name = mixed_dict.pop()\n",
    "print(name)"
   ]
  },
  {
   "cell_type": "markdown",
   "id": "bfc6b54d",
   "metadata": {},
   "source": [
    "###### 6.popitem()\n",
    "removes and returns the last inserted key-value pair as tuple"
   ]
  },
  {
   "cell_type": "code",
   "execution_count": 34,
   "id": "acc1617b",
   "metadata": {},
   "outputs": [
    {
     "name": "stdout",
     "output_type": "stream",
     "text": [
      "('salary', 50000)\n",
      "{'name': 'meghana', 'age': 23, 'empid': 9, 'gender': 'female', 'type': 'permanent'}\n"
     ]
    }
   ],
   "source": [
    "last_item=emp.popitem()\n",
    "print(last_item)\n",
    "print(emp)"
   ]
  },
  {
   "cell_type": "markdown",
   "id": "da75c94c",
   "metadata": {},
   "source": [
    "###### 7.update()\n",
    "updates the dictionary with the elements from another dictionary or from an iterable of key-value pairs"
   ]
  },
  {
   "cell_type": "code",
   "execution_count": 38,
   "id": "fbf06b42",
   "metadata": {},
   "outputs": [
    {
     "name": "stdout",
     "output_type": "stream",
     "text": [
      "{'name': 'meghana', 'age': 30, 'empid': 9, 'gender': 'female', 'type': 'temporary'}\n"
     ]
    }
   ],
   "source": [
    "new_data = {'age':30,'type':'temporary'}\n",
    "emp.update(new_data)\n",
    "print(emp)"
   ]
  }
 ],
 "metadata": {
  "kernelspec": {
   "display_name": "Python 3 (ipykernel)",
   "language": "python",
   "name": "python3"
  },
  "language_info": {
   "codemirror_mode": {
    "name": "ipython",
    "version": 3
   },
   "file_extension": ".py",
   "mimetype": "text/x-python",
   "name": "python",
   "nbconvert_exporter": "python",
   "pygments_lexer": "ipython3",
   "version": "3.10.9"
  }
 },
 "nbformat": 4,
 "nbformat_minor": 5
}
