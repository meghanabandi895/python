{
 "cells": [
  {
   "cell_type": "markdown",
   "id": "cf24034f",
   "metadata": {},
   "source": [
    "## set\n",
    "A set is a collection of unique elements and it is defined by using curlybraces{} and seperated by comma(,) "
   ]
  },
  {
   "cell_type": "raw",
   "id": "d48d0eb5",
   "metadata": {},
   "source": [
    "A set is unordered, unchangeable*, and unindexed.\n",
    "Sets are used to store multiple items in a single variable."
   ]
  },
  {
   "cell_type": "markdown",
   "id": "c0d79cfe",
   "metadata": {},
   "source": [
    "##### creating a set"
   ]
  },
  {
   "cell_type": "code",
   "execution_count": 5,
   "id": "193cb8b7",
   "metadata": {},
   "outputs": [
    {
     "name": "stdout",
     "output_type": "stream",
     "text": [
      "{'black', 'blue', 'yellow'}\n"
     ]
    }
   ],
   "source": [
    "set = {'black','yellow','blue'}\n",
    "print(set)"
   ]
  },
  {
   "cell_type": "markdown",
   "id": "c77f161b",
   "metadata": {},
   "source": [
    "##### Duplicate items"
   ]
  },
  {
   "cell_type": "code",
   "execution_count": 6,
   "id": "1a25094f",
   "metadata": {},
   "outputs": [
    {
     "name": "stdout",
     "output_type": "stream",
     "text": [
      "{'black', 'orange', 'violet', 'blue', 'yellow'}\n"
     ]
    }
   ],
   "source": [
    "colors = {'black','blue','yellow','orange','violet','blue','orange','blue'}\n",
    "print(colors)"
   ]
  },
  {
   "cell_type": "markdown",
   "id": "58b47843",
   "metadata": {},
   "source": [
    "##### Add and update set"
   ]
  },
  {
   "cell_type": "code",
   "execution_count": 11,
   "id": "e69d7f93",
   "metadata": {},
   "outputs": [
    {
     "name": "stdout",
     "output_type": "stream",
     "text": [
      "Initial set: {'tvs', 'splendor', 'honda'}\n",
      "updated set: {'tvs', 'splendor', 'honda', 'unicorn'}\n"
     ]
    }
   ],
   "source": [
    "#add\n",
    "bikes = {'honda','tvs','splendor'}\n",
    "print('Initial set:',bikes)\n",
    "bikes.add('unicorn')\n",
    "print('updated set:',bikes)"
   ]
  },
  {
   "cell_type": "code",
   "execution_count": 12,
   "id": "61b1fa00",
   "metadata": {},
   "outputs": [
    {
     "name": "stdout",
     "output_type": "stream",
     "text": [
      "{'python', 'c++', 'java', 'os', 'ml', 'ds', 'c', 'r'}\n"
     ]
    }
   ],
   "source": [
    "#update\n",
    "courses = {'python','java','os','r'}\n",
    "more_courses = {'c','c++','ds','r','python','ml'}\n",
    "update_courses = courses.update(more_courses)\n",
    "print(courses)"
   ]
  },
  {
   "cell_type": "markdown",
   "id": "2d4630f3",
   "metadata": {},
   "source": [
    "##### Remove an elemnt from set\n",
    "we use the discard() method to remove the specified element from a set"
   ]
  },
  {
   "cell_type": "code",
   "execution_count": 16,
   "id": "266e920b",
   "metadata": {},
   "outputs": [
    {
     "name": "stdout",
     "output_type": "stream",
     "text": [
      "set after remove(): {'java', 'os', 'r'}\n",
      "set after remove(): {'java', 'os'}\n"
     ]
    }
   ],
   "source": [
    "courses = {'python','java','os','r'}\n",
    "removedvalue = courses.discard('python')\n",
    "print('set after remove():',courses)\n",
    "removedvalue = courses.remove('r')\n",
    "print('set after remove():',courses)"
   ]
  },
  {
   "cell_type": "markdown",
   "id": "d7181189",
   "metadata": {},
   "source": [
    "##### set operations"
   ]
  },
  {
   "cell_type": "markdown",
   "id": "1a96d253",
   "metadata": {},
   "source": [
    "###### 1.union of two sets\n",
    "The union of two sets a and b include all the elements of set a and b.\n",
    "combines elmentsfrom two sets removing duplicates"
   ]
  },
  {
   "cell_type": "code",
   "execution_count": 18,
   "id": "38a8f960",
   "metadata": {},
   "outputs": [
    {
     "name": "stdout",
     "output_type": "stream",
     "text": [
      "union using |: {1, 2, 3, 4, 6, 8, 9}\n",
      "union using union: {1, 2, 3, 4, 6, 8, 9}\n"
     ]
    }
   ],
   "source": [
    "a = {1,4,6,9,8,4}\n",
    "b = {6,8,3,8,9,3,2,}\n",
    "print('union using |:',a|b)\n",
    "print('union using union:',a.union(b))"
   ]
  },
  {
   "cell_type": "markdown",
   "id": "e6005649",
   "metadata": {},
   "source": [
    "###### 2.set Intersection\n",
    "The intersection of two sets a and b include common elements between set a and set b."
   ]
  },
  {
   "cell_type": "code",
   "execution_count": 20,
   "id": "2a6ebd4f",
   "metadata": {},
   "outputs": [
    {
     "name": "stdout",
     "output_type": "stream",
     "text": [
      "intersection using &: {1, 34, 6, 8, 93}\n",
      "intersection using intersection: {1, 34, 6, 8, 93}\n"
     ]
    }
   ],
   "source": [
    "a = {1,48,6,98,8,4,93,34}\n",
    "b = {6,8,34,8,93,3,28,1}\n",
    "print('intersection using &:',a&b)\n",
    "print('intersection using intersection:',a.intersection(b))"
   ]
  },
  {
   "cell_type": "markdown",
   "id": "9c95ed5d",
   "metadata": {},
   "source": [
    "###### 3.Difference between two sets\n",
    "the difference between two sets a and b include elements of set a that are not present in set b"
   ]
  },
  {
   "cell_type": "code",
   "execution_count": 21,
   "id": "7c70f1ff",
   "metadata": {},
   "outputs": [
    {
     "name": "stdout",
     "output_type": "stream",
     "text": [
      "using -: {48, 98, 4}\n",
      "using difference: {48, 98, 4}\n"
     ]
    }
   ],
   "source": [
    "a = {1,48,6,98,8,4,93,34}\n",
    "b = {6,8,34,8,93,3,28,1}\n",
    "print('using -:',a-b)\n",
    "print('using difference:',a.difference(b))"
   ]
  },
  {
   "cell_type": "markdown",
   "id": "98633b8e",
   "metadata": {},
   "source": [
    "###### 4.set symmetric difference\n",
    "the symmetric differences between two sets a and b includes all elements of a and b without common elements "
   ]
  },
  {
   "cell_type": "code",
   "execution_count": 22,
   "id": "a9fd8371",
   "metadata": {},
   "outputs": [
    {
     "name": "stdout",
     "output_type": "stream",
     "text": [
      " using ^: {98, 3, 4, 48, 28}\n",
      " using symmetric_difference: {98, 3, 4, 48, 28}\n"
     ]
    }
   ],
   "source": [
    "a = {1,48,6,98,8,4,93,34}\n",
    "b = {6,8,34,8,93,3,28,1}\n",
    "print(' using ^:',a^b)\n",
    "print(' using symmetric_difference:',a.symmetric_difference(b))"
   ]
  }
 ],
 "metadata": {
  "kernelspec": {
   "display_name": "Python 3 (ipykernel)",
   "language": "python",
   "name": "python3"
  },
  "language_info": {
   "codemirror_mode": {
    "name": "ipython",
    "version": 3
   },
   "file_extension": ".py",
   "mimetype": "text/x-python",
   "name": "python",
   "nbconvert_exporter": "python",
   "pygments_lexer": "ipython3",
   "version": "3.10.9"
  }
 },
 "nbformat": 4,
 "nbformat_minor": 5
}
