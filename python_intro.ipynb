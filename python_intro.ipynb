{
  "nbformat": 4,
  "nbformat_minor": 0,
  "metadata": {
    "colab": {
      "provenance": [],
      "authorship_tag": "ABX9TyPweRkmOu7qIpza2q2JjiYp",
      "include_colab_link": true
    },
    "kernelspec": {
      "name": "python3",
      "display_name": "Python 3"
    },
    "language_info": {
      "name": "python"
    }
  },
  "cells": [
    {
      "cell_type": "markdown",
      "metadata": {
        "id": "view-in-github",
        "colab_type": "text"
      },
      "source": [
        "<a href=\"https://colab.research.google.com/github/meghanabandi895/python/blob/main/python_intro.ipynb\" target=\"_parent\"><img src=\"https://colab.research.google.com/assets/colab-badge.svg\" alt=\"Open In Colab\"/></a>"
      ]
    },
    {
      "cell_type": "markdown",
      "source": [
        "# Python first program"
      ],
      "metadata": {
        "id": "0NolPfkqzns1"
      }
    },
    {
      "cell_type": "code",
      "source": [
        "print (\"Hello world\")"
      ],
      "metadata": {
        "colab": {
          "base_uri": "https://localhost:8080/"
        },
        "id": "OxU5jniqzyw1",
        "outputId": "00707a7c-e794-48bf-9a9c-465bb2d389f5"
      },
      "execution_count": null,
      "outputs": [
        {
          "output_type": "stream",
          "name": "stdout",
          "text": [
            "Hello world\n"
          ]
        }
      ]
    },
    {
      "cell_type": "code",
      "source": [
        "import sys\n",
        "print(\"Python version:\",sys.version)"
      ],
      "metadata": {
        "colab": {
          "base_uri": "https://localhost:8080/"
        },
        "id": "fjYjP1QKz6Xb",
        "outputId": "60cd7626-705b-44a8-9d9d-b9ad274e25ed"
      },
      "execution_count": null,
      "outputs": [
        {
          "output_type": "stream",
          "name": "stdout",
          "text": [
            "Python version: 3.10.12 (main, Jul 29 2024, 16:56:48) [GCC 11.4.0]\n"
          ]
        }
      ]
    },
    {
      "cell_type": "markdown",
      "source": [
        "**What is python**\n",
        "   \n",
        "\n",
        "*   Python is an interpreted, object-oriented, high-level programming language with dynamic semantics.\n",
        "*    Its high-level built in data structures, combined with dynamic typing and dynamic binding.\n",
        "     It is very attractive for Rapid Application Development, as well as for use as a scripting or glue language to connect existing components together.\n"
      ],
      "metadata": {
        "id": "d3bhiF_p-8Zj"
      }
    },
    {
      "cell_type": "markdown",
      "source": [
        "**History of Python**\n",
        "\n",
        "*   In the late 1980s,It was that time when working on Python started.\n",
        "*   In December of 1989 Guido Van Rossum began doing its application-based work\n",
        "   at Centrum Wiskunde & Informatica (CWI) which is situated in the Netherlands\n",
        "*   It was initially designed by Guido van Rossum in 1991 and developed by\n",
        "   Python Software Foundation.\n",
        "\n",
        "\n"
      ],
      "metadata": {
        "id": "hbiCRjPB_zDb"
      }
    },
    {
      "cell_type": "markdown",
      "source": [
        "**Features of Python**\n",
        "\n",
        "*   Easy to Code\n",
        "*   Free and Open-Source.\n",
        "*   Easy to Read.\n",
        "*   High-level Language\n",
        "*   object-oriented programming language\n",
        "*   Extensible\n",
        "*   Robust Standard Library\n",
        "*   Interpreted programming language\n",
        "*   GUI programming support"
      ],
      "metadata": {
        "id": "2i302MenCZoI"
      }
    },
    {
      "cell_type": "markdown",
      "source": [
        "**Applications of python**\n",
        "\n",
        "*   Developing web applications\n",
        "*   Desktop GUi applications\n",
        "*   Data Analysis\n",
        "*   Machine learning Applications\n",
        "*   Artificial intelligence applications\n",
        "*   cloud computing\n",
        "*   software development\n",
        "*   Scientific and Numeric\n",
        "*   Business applications"
      ],
      "metadata": {
        "id": "KLVYvCiBEVBT"
      }
    },
    {
      "cell_type": "markdown",
      "source": [
        "**Advantages of python**\n",
        "\n",
        "*   Readable and Maintainable Code\n",
        "*   Supports Multiple Programming Paradigms\n",
        "*   High Compatibility\n",
        "*   Multiple Open-Source Frameworks and Tools"
      ],
      "metadata": {
        "id": "H8TcAME8H0yI"
      }
    },
    {
      "cell_type": "markdown",
      "source": [
        "**Disadvantages of Python**\n",
        "\n",
        "*   Python is Slow at Runtime\n",
        "*   Mobile Application Development\n",
        "*   Difficulty in Using Other Languages    \n",
        "*   High Memory Consumption\n",
        "*   Not used in the Enterprise Development Sector\n",
        "*   Runtime Errors"
      ],
      "metadata": {
        "id": "uxowXQ9mIuym"
      }
    },
    {
      "cell_type": "markdown",
      "source": [
        "**Comments in Python**\n",
        "\n",
        "*   Single-Line Comments\n",
        "        Single-line comments begin with the “#” character. Anything that is written in a single line after ‘#’ is considered as a comment.\n",
        "*    Multi-Line Comments\n",
        "        Python does not support multi-line comments. However, there are multiple ways to overcome this issue.\n",
        "\n"
      ],
      "metadata": {
        "id": "vlyfFXjNKEV3"
      }
    },
    {
      "cell_type": "markdown",
      "source": [
        "**Keywords in python**\n",
        "*   Every scripting language has designated words or keywords, with particular definitions and usage guidelines. Python is no exception. The fundamental constituent elements of any Python program are Python keywords.  "
      ],
      "metadata": {
        "id": "uJ2wQ8Q0MPv5"
      }
    },
    {
      "cell_type": "code",
      "source": [
        "import keyword\n",
        "py_keywords=keyword.kwlist\n",
        "print(py_keywords)\n",
        "len(py_keywords)"
      ],
      "metadata": {
        "colab": {
          "base_uri": "https://localhost:8080/"
        },
        "id": "V10eZig2NNsk",
        "outputId": "3a5c7454-257f-42a2-b5bc-30bf23b7ead5"
      },
      "execution_count": null,
      "outputs": [
        {
          "output_type": "stream",
          "name": "stdout",
          "text": [
            "['False', 'None', 'True', 'and', 'as', 'assert', 'async', 'await', 'break', 'class', 'continue', 'def', 'del', 'elif', 'else', 'except', 'finally', 'for', 'from', 'global', 'if', 'import', 'in', 'is', 'lambda', 'nonlocal', 'not', 'or', 'pass', 'raise', 'return', 'try', 'while', 'with', 'yield']\n"
          ]
        },
        {
          "output_type": "execute_result",
          "data": {
            "text/plain": [
              "35"
            ]
          },
          "metadata": {},
          "execution_count": 2
        }
      ]
    }
  ]
}