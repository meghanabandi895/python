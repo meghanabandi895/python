{
 "cells": [
  {
   "cell_type": "markdown",
   "id": "bf9bfedf",
   "metadata": {},
   "source": [
    "## Strings"
   ]
  },
  {
   "cell_type": "markdown",
   "id": "729e5124",
   "metadata": {},
   "source": [
    "A string is a sequence of characters enclosed in either single quotes ('') or double quotes (“”)."
   ]
  },
  {
   "cell_type": "markdown",
   "id": "c223e838",
   "metadata": {},
   "source": [
    "strings are used for representing textual data."
   ]
  },
  {
   "cell_type": "markdown",
   "id": "461e5388",
   "metadata": {},
   "source": [
    "The Python language provides various built-in methods and functionalities to work with strings efficiently."
   ]
  },
  {
   "cell_type": "code",
   "execution_count": 4,
   "id": "cd2ab434",
   "metadata": {},
   "outputs": [
    {
     "name": "stdout",
     "output_type": "stream",
     "text": [
      "python\n",
      "It's alright\n",
      "welcome to hyderabad\n",
      "The best things in life are free\n"
     ]
    }
   ],
   "source": [
    "str = 'python'\n",
    "print(str)\n",
    "str1 = \"It's alright\"\n",
    "print(str1)\n",
    "str2 = \"\"\"welcome to hyderabad\"\"\"\n",
    "print(str2)\n",
    "str3 = \"The best things in life are free\"\n",
    "print(str3)"
   ]
  },
  {
   "cell_type": "markdown",
   "id": "8d3ef30e",
   "metadata": {},
   "source": [
    "#### String Operations"
   ]
  },
  {
   "cell_type": "markdown",
   "id": "512b1fde",
   "metadata": {},
   "source": [
    "##### Concatenation\n",
    "Combining two or more strings"
   ]
  },
  {
   "cell_type": "code",
   "execution_count": 8,
   "id": "b12e0085",
   "metadata": {},
   "outputs": [
    {
     "name": "stdout",
     "output_type": "stream",
     "text": [
      "follow me\n"
     ]
    }
   ],
   "source": [
    "str1 = \"follow\"\n",
    "str2 = \"me\"\n",
    "result = str1 +\" \"+str2\n",
    "print(result)"
   ]
  },
  {
   "cell_type": "code",
   "execution_count": 9,
   "id": "db448bba",
   "metadata": {},
   "outputs": [
    {
     "name": "stdout",
     "output_type": "stream",
     "text": [
      "please sound horn\n"
     ]
    }
   ],
   "source": [
    "str1 = \"please\"\n",
    "str2 = \"sound\"\n",
    "str3 = \"horn\"\n",
    "result = str1+\" \"+str2+\" \"+str3\n",
    "print(result)"
   ]
  },
  {
   "cell_type": "markdown",
   "id": "fa4a2889",
   "metadata": {},
   "source": [
    "##### Repetetion\n",
    "Repeating a string multiple times"
   ]
  },
  {
   "cell_type": "code",
   "execution_count": 11,
   "id": "b09232e3",
   "metadata": {},
   "outputs": [
    {
     "name": "stdout",
     "output_type": "stream",
     "text": [
      "welcome to datascience class \n",
      "welcome to datascience class \n",
      "welcome to datascience class \n",
      "welcome to datascience class \n",
      "welcome to datascience class \n",
      "\n"
     ]
    }
   ],
   "source": [
    "str1 = \"welcome to datascience class \\n\"\n",
    "result = str1*5\n",
    "print(result)"
   ]
  },
  {
   "cell_type": "markdown",
   "id": "6fb6d7ac",
   "metadata": {},
   "source": [
    "##### Indexing\n",
    "Accessing individual characters in a string"
   ]
  },
  {
   "cell_type": "code",
   "execution_count": 13,
   "id": "f07b2326",
   "metadata": {},
   "outputs": [
    {
     "name": "stdout",
     "output_type": "stream",
     "text": [
      ",\n",
      "a\n",
      " \n",
      "s\n",
      ",\n",
      "c\n",
      "a\n",
      "n\n",
      ",\n",
      "e\n"
     ]
    }
   ],
   "source": [
    "my_string = \"python is a versatile, high-level programming language known for its clear and readable syntax, making it ideal for both beginners and experienced developers. It supports multiple programming paradigms, including procedural, object-oriented, and functional programming. With a rich ecosystem of libraries and frameworks, Python excels in fields like web development, data science, machine learning, automation, and more. Its dynamic nature, combined with an active community, ensures Python remains a popular and powerful choice for diverse applications.\"\n",
    "print(my_string[21])\n",
    "print(my_string[47])\n",
    "print(my_string[105])\n",
    "print(my_string[129])\n",
    "print(my_string[201])\n",
    "print(my_string[249])\n",
    "print(my_string[311])\n",
    "print(my_string[395])\n",
    "print(my_string[409])\n",
    "print(my_string[418])"
   ]
  },
  {
   "cell_type": "markdown",
   "id": "39430f8f",
   "metadata": {},
   "source": [
    "##### Slicing\n",
    "Extracting a substring from a string"
   ]
  },
  {
   "cell_type": "code",
   "execution_count": 20,
   "id": "1bfbcc1b",
   "metadata": {
    "scrolled": true
   },
   "outputs": [
    {
     "name": "stdout",
     "output_type": "stream",
     "text": [
      " support\n",
      "pports multiple programmi\n",
      " programming paradigms, includ\n",
      "s mul\n",
      "port\n"
     ]
    }
   ],
   "source": [
    "my_str = \"It supports multiple programming paradigms, including procedural, object-oriented, and functional programming. With a rich ecosystem of libraries and frameworks, Python excels in fields like web development, data science, machine learning, automation, and more\"\n",
    "print(my_str[2:10])\n",
    "print(my_str[5:30])\n",
    "print(my_str[20:50])\n",
    "print(my_str[10:15])\n",
    "print(my_str[6:10])"
   ]
  },
  {
   "cell_type": "markdown",
   "id": "848ad4d4",
   "metadata": {},
   "source": [
    "##### Python formats"
   ]
  },
  {
   "cell_type": "markdown",
   "id": "e4824e7e",
   "metadata": {},
   "source": [
    "###### 1.old style formatting(% operator)"
   ]
  },
  {
   "cell_type": "code",
   "execution_count": 22,
   "id": "106f3212",
   "metadata": {},
   "outputs": [
    {
     "name": "stdout",
     "output_type": "stream",
     "text": [
      "hello meghana! your balance is 0.\n"
     ]
    }
   ],
   "source": [
    "name = \"meghana\"\n",
    "balance = 0\n",
    "formatted_string=\"hello %s! your balance is %d.\"%(name,balance)\n",
    "print(formatted_string)"
   ]
  },
  {
   "cell_type": "code",
   "execution_count": 23,
   "id": "2139db70",
   "metadata": {},
   "outputs": [
    {
     "name": "stdout",
     "output_type": "stream",
     "text": [
      "my name is mango and my price is 60.\n"
     ]
    }
   ],
   "source": [
    "fruit = \"mango\"\n",
    "price = 60\n",
    "formatted_string=\"my name is %s and my price is %d.\"%(fruit,price)\n",
    "print(formatted_string)"
   ]
  },
  {
   "cell_type": "markdown",
   "id": "186dbc35",
   "metadata": {},
   "source": [
    "###### 2.Format method()\n",
    "uses the format() method with placeholders"
   ]
  },
  {
   "cell_type": "code",
   "execution_count": 24,
   "id": "3aa9e4a2",
   "metadata": {},
   "outputs": [
    {
     "name": "stdout",
     "output_type": "stream",
     "text": [
      "hello meghana! your balance is 0.\n"
     ]
    }
   ],
   "source": [
    "name = \"meghana\"\n",
    "balance = 0\n",
    "formatted_string=\"hello {}! your balance is {}.\".format(name,balance)\n",
    "print(formatted_string)"
   ]
  },
  {
   "cell_type": "code",
   "execution_count": 25,
   "id": "9e3da47d",
   "metadata": {},
   "outputs": [
    {
     "name": "stdout",
     "output_type": "stream",
     "text": [
      "my name is mango and my price is 60.\n"
     ]
    }
   ],
   "source": [
    "fruit = \"mango\"\n",
    "price = 60\n",
    "formatted_string=\"my name is {} and my price is {}.\".format(fruit,price)\n",
    "print(formatted_string)"
   ]
  },
  {
   "cell_type": "markdown",
   "id": "7ba13eaa",
   "metadata": {},
   "source": [
    "###### 3.String Interpolation\n",
    "uses f strings where expressions inside curly braces {} are evaluated and replaced."
   ]
  },
  {
   "cell_type": "code",
   "execution_count": 28,
   "id": "07bc2678",
   "metadata": {},
   "outputs": [
    {
     "name": "stdout",
     "output_type": "stream",
     "text": [
      "hello meghana! your balance is 0.\n"
     ]
    }
   ],
   "source": [
    "name = \"meghana\"\n",
    "balance = 0\n",
    "formatted_string=f\"hello {name}! your balance is {balance}.\"\n",
    "print(formatted_string)"
   ]
  },
  {
   "cell_type": "code",
   "execution_count": 30,
   "id": "4f782a9a",
   "metadata": {},
   "outputs": [
    {
     "name": "stdout",
     "output_type": "stream",
     "text": [
      "my name is mango and my price is 60.\n"
     ]
    }
   ],
   "source": [
    "fruit = \"mango\"\n",
    "price = 60\n",
    "formatted_string=f\"my name is {fruit} and my price is {price}.\"\n",
    "print(formatted_string)"
   ]
  },
  {
   "cell_type": "markdown",
   "id": "08887c88",
   "metadata": {},
   "source": [
    "#### String methods"
   ]
  },
  {
   "cell_type": "markdown",
   "id": "d3a7ec70",
   "metadata": {},
   "source": [
    "###### 1.len()\n",
    "The len() function is used to return an integer value which indicates the number of items in an object."
   ]
  },
  {
   "cell_type": "code",
   "execution_count": 6,
   "id": "f66699d6",
   "metadata": {},
   "outputs": [
    {
     "name": "stdout",
     "output_type": "stream",
     "text": [
      "10\n"
     ]
    }
   ],
   "source": [
    "txt = \"hello world\"\n",
    "len = 10\n",
    "print(len)"
   ]
  },
  {
   "cell_type": "markdown",
   "id": "fd0f5068",
   "metadata": {},
   "source": [
    "###### 2.Lower case()\n",
    "The lower() method returns a string where all characters are lower case.\n",
    "Symbols and Numbers are ignored."
   ]
  },
  {
   "cell_type": "code",
   "execution_count": 48,
   "id": "189d81a8",
   "metadata": {},
   "outputs": [
    {
     "name": "stdout",
     "output_type": "stream",
     "text": [
      "data science\n"
     ]
    }
   ],
   "source": [
    "txt = \"DATA SCIENCE\"\n",
    "x = txt.lower()\n",
    "print(x)"
   ]
  },
  {
   "cell_type": "markdown",
   "id": "66fe5ec8",
   "metadata": {},
   "source": [
    "###### 3.Upper case()\n",
    "The upper() method returns a string where all characters are in upper case."
   ]
  },
  {
   "cell_type": "code",
   "execution_count": 50,
   "id": "edee940f",
   "metadata": {},
   "outputs": [
    {
     "name": "stdout",
     "output_type": "stream",
     "text": [
      "HELLO PYTHON\n"
     ]
    }
   ],
   "source": [
    "txt = \"hello python\"\n",
    "x = txt.upper()\n",
    "print(x)"
   ]
  },
  {
   "cell_type": "markdown",
   "id": "1466f3c1",
   "metadata": {},
   "source": [
    "###### 4.strip()\n",
    "The strip() method removes any leading, and trailing whitespaces.\n",
    "Leading means at the beginning of the string, trailing means at the end."
   ]
  },
  {
   "cell_type": "code",
   "execution_count": 52,
   "id": "0c3c261a",
   "metadata": {},
   "outputs": [
    {
     "name": "stdout",
     "output_type": "stream",
     "text": [
      "Hello world ----------------\n"
     ]
    }
   ],
   "source": [
    "txt = \"  Hello world ---------------- \"\n",
    "x = txt.strip()\n",
    "print(x)"
   ]
  },
  {
   "cell_type": "markdown",
   "id": "c4d0136c",
   "metadata": {},
   "source": [
    "###### 5.split()\n",
    "The split() method splits a string into a list.You can specify the separator, default separator is any whitespace."
   ]
  },
  {
   "cell_type": "code",
   "execution_count": 58,
   "id": "e200a78c",
   "metadata": {},
   "outputs": [
    {
     "name": "stdout",
     "output_type": "stream",
     "text": [
      "['welcome', 'to', 'the', 'park']\n"
     ]
    }
   ],
   "source": [
    "txt = \"welcome to the park\"\n",
    "x = txt.split()\n",
    "print(x)"
   ]
  },
  {
   "cell_type": "markdown",
   "id": "0ecdbc75",
   "metadata": {},
   "source": [
    "###### 6.join()\n",
    "The join() method takes all items in an iterable and joins them into one string.\n",
    "A string must be specified as the separator."
   ]
  },
  {
   "cell_type": "code",
   "execution_count": 60,
   "id": "127f5b3c",
   "metadata": {},
   "outputs": [
    {
     "name": "stdout",
     "output_type": "stream",
     "text": [
      "she @ is @ a @ good @ girl\n"
     ]
    }
   ],
   "source": [
    "str = \"she\",\"is\",\"a\",\"good\",\"girl\"\n",
    "x = \" @ \".join(str)\n",
    "print(x)"
   ]
  },
  {
   "cell_type": "markdown",
   "id": "f225550f",
   "metadata": {},
   "source": [
    "###### 7.Capitalize()\n",
    "The capitalize() method returns a string where the first character is upper case, and the rest is lower case."
   ]
  },
  {
   "cell_type": "code",
   "execution_count": 66,
   "id": "d3ac0da3",
   "metadata": {},
   "outputs": [
    {
     "name": "stdout",
     "output_type": "stream",
     "text": [
      "Sunday is fun day\n"
     ]
    }
   ],
   "source": [
    "txt = \"SUNDAY is fun day\"\n",
    "x = txt.capitalize()\n",
    "print(x)"
   ]
  },
  {
   "cell_type": "markdown",
   "id": "a5a5a404",
   "metadata": {},
   "source": [
    "###### 8.casefold()\n",
    "The casefold() method returns a string where all the characters are lower case."
   ]
  },
  {
   "cell_type": "code",
   "execution_count": 67,
   "id": "5b02e851",
   "metadata": {},
   "outputs": [
    {
     "name": "stdout",
     "output_type": "stream",
     "text": [
      "hello, and welcome to my world!\n"
     ]
    }
   ],
   "source": [
    "txt = \"Hello, And Welcome To My World!\"\n",
    "x = txt.casefold()\n",
    "print(x)"
   ]
  },
  {
   "cell_type": "markdown",
   "id": "62fa41fb",
   "metadata": {},
   "source": [
    "###### 9.center()\n",
    "The center() method will center align the string, using a specified character (space is default) as the fill character."
   ]
  },
  {
   "cell_type": "code",
   "execution_count": 69,
   "id": "bac13570",
   "metadata": {},
   "outputs": [
    {
     "name": "stdout",
     "output_type": "stream",
     "text": [
      "            mango             \n"
     ]
    }
   ],
   "source": [
    "txt = \"mango\"\n",
    "x = txt.center(30)\n",
    "print(x)"
   ]
  },
  {
   "cell_type": "markdown",
   "id": "be952d79",
   "metadata": {},
   "source": [
    "###### 10.count()\n",
    "The count() method returns the number of times a specified value appears in the string"
   ]
  },
  {
   "cell_type": "code",
   "execution_count": 71,
   "id": "19f703f1",
   "metadata": {},
   "outputs": [
    {
     "name": "stdout",
     "output_type": "stream",
     "text": [
      "3\n"
     ]
    }
   ],
   "source": [
    "txt = \"I hear my voice, my voice is my favourite\"\n",
    "x = txt.count(\"my\")\n",
    "print(x)"
   ]
  },
  {
   "cell_type": "markdown",
   "id": "e925cc60",
   "metadata": {},
   "source": [
    "###### 11.encode()\n",
    "The encode() method encodes the string, using the specified encoding. If no encoding is specified, UTF-8 will be used."
   ]
  },
  {
   "cell_type": "code",
   "execution_count": 72,
   "id": "7cd2881a",
   "metadata": {},
   "outputs": [
    {
     "name": "stdout",
     "output_type": "stream",
     "text": [
      "b'my name is meghana'\n"
     ]
    }
   ],
   "source": [
    "txt = \"my name is meghana\"\n",
    "x = txt.encode()\n",
    "print(x)"
   ]
  },
  {
   "cell_type": "markdown",
   "id": "69bd9e3c",
   "metadata": {},
   "source": [
    "###### 12.endswith()\n",
    "The endswith() method returns True if the string ends with the specified value, otherwise False."
   ]
  },
  {
   "cell_type": "code",
   "execution_count": 77,
   "id": "2ad28ba1",
   "metadata": {},
   "outputs": [
    {
     "name": "stdout",
     "output_type": "stream",
     "text": [
      "True\n",
      "False\n"
     ]
    }
   ],
   "source": [
    "txt = \"This is my book.\"\n",
    "x = txt.endswith(\".\")\n",
    "print(x)\n",
    "y = txt.endswith(\" \")\n",
    "print(y)"
   ]
  },
  {
   "cell_type": "markdown",
   "id": "c3513a15",
   "metadata": {},
   "source": [
    "###### 13.expandtabs()\n",
    "The expandtabs() method sets the tab size to the specified number of whitespaces."
   ]
  },
  {
   "cell_type": "code",
   "execution_count": 86,
   "id": "bed4bf02",
   "metadata": {},
   "outputs": [
    {
     "name": "stdout",
     "output_type": "stream",
     "text": [
      "M\\e\\g\\ha\n",
      "a\n"
     ]
    }
   ],
   "source": [
    "txt = \"M\\e\\g\\ha\\na\"\n",
    "x = txt.expandtabs(2)\n",
    "print(x)"
   ]
  },
  {
   "cell_type": "markdown",
   "id": "faf74b03",
   "metadata": {},
   "source": [
    "###### 14.find()\n",
    "The find() method finds the first occurrence of the specified value."
   ]
  },
  {
   "cell_type": "markdown",
   "id": "6d64dbf6",
   "metadata": {},
   "source": [
    "The find() method returns -1 if the value is not found."
   ]
  },
  {
   "cell_type": "markdown",
   "id": "1b099c76",
   "metadata": {},
   "source": [
    "The find() method is almost the same as the index() method, the only difference is that the index() method raises an exception if the value is not found."
   ]
  },
  {
   "cell_type": "code",
   "execution_count": 91,
   "id": "92be5373",
   "metadata": {},
   "outputs": [
    {
     "name": "stdout",
     "output_type": "stream",
     "text": [
      "6\n",
      "-1\n"
     ]
    }
   ],
   "source": [
    "txt = \"hello world\"\n",
    "x = txt.find(\"world\")\n",
    "print(x)\n",
    "y = txt.find(\"p\")\n",
    "print(y)"
   ]
  },
  {
   "cell_type": "markdown",
   "id": "902ecaf8",
   "metadata": {},
   "source": [
    "###### 15.format()\n",
    "The format() method formats the specified value(s) and insert them inside the string's placeholder."
   ]
  },
  {
   "cell_type": "code",
   "execution_count": 94,
   "id": "ad655e06",
   "metadata": {},
   "outputs": [
    {
     "name": "stdout",
     "output_type": "stream",
     "text": [
      "For only 49.00 ruppees!\n"
     ]
    }
   ],
   "source": [
    "txt = \"For only {price:.2f} ruppees!\"\n",
    "print(txt.format(price = 49))"
   ]
  },
  {
   "cell_type": "markdown",
   "id": "c98f51a0",
   "metadata": {},
   "source": [
    "###### 16.index()\n",
    "The index() method finds the first occurrence of the specified value."
   ]
  },
  {
   "cell_type": "code",
   "execution_count": 97,
   "id": "1193e6ce",
   "metadata": {},
   "outputs": [
    {
     "name": "stdout",
     "output_type": "stream",
     "text": [
      "8\n"
     ]
    }
   ],
   "source": [
    "txt = \"welcome to my world.\"\n",
    "x = txt.index(\"to\")\n",
    "print(x)"
   ]
  },
  {
   "cell_type": "markdown",
   "id": "d4beadf7",
   "metadata": {},
   "source": [
    "###### 17.isalnum()\n",
    "The isalnum() method returns True if all the characters are alphanumeric, meaning alphabet letter (a-z) and numbers (0-9)."
   ]
  },
  {
   "cell_type": "markdown",
   "id": "04dbd763",
   "metadata": {},
   "source": [
    "Example of characters that are not alphanumeric: (space)!#%&? etc."
   ]
  },
  {
   "cell_type": "code",
   "execution_count": 101,
   "id": "02ec5be4",
   "metadata": {},
   "outputs": [
    {
     "name": "stdout",
     "output_type": "stream",
     "text": [
      "True\n",
      "False\n"
     ]
    }
   ],
   "source": [
    "txt = \"hello123\"\n",
    "x = txt.isalnum()\n",
    "print(x)\n",
    "\n",
    "txt = \"hello 123\"\n",
    "y = txt.isalnum()\n",
    "print(y)"
   ]
  },
  {
   "cell_type": "markdown",
   "id": "f4364dc5",
   "metadata": {},
   "source": [
    "###### 18.isalpha()\n",
    "The isalpha() method returns True if all the characters are alphabet letters (a-z)."
   ]
  },
  {
   "cell_type": "code",
   "execution_count": 105,
   "id": "91ea738e",
   "metadata": {},
   "outputs": [
    {
     "name": "stdout",
     "output_type": "stream",
     "text": [
      "True\n",
      "False\n"
     ]
    }
   ],
   "source": [
    "txt = \"hello\"\n",
    "x = txt.isalpha()\n",
    "print(x)\n",
    "\n",
    "txt = \"hello123\"\n",
    "y = txt.isalpha()\n",
    "print(y) "
   ]
  },
  {
   "cell_type": "markdown",
   "id": "762ed00e",
   "metadata": {},
   "source": [
    "###### 19.isascii()\n",
    "The isascii() method returns True if all the characters are ascii characters  (a-z)."
   ]
  },
  {
   "cell_type": "code",
   "execution_count": 109,
   "id": "6f7a6ced",
   "metadata": {},
   "outputs": [
    {
     "name": "stdout",
     "output_type": "stream",
     "text": [
      "True\n",
      "False\n"
     ]
    }
   ],
   "source": [
    "txt = \"hello123\"\n",
    "y = txt.isascii()\n",
    "print(y)\n",
    "\n",
    "txt = \"hello#$\"\n",
    "x = txt.isalpha()\n",
    "print(x)"
   ]
  },
  {
   "cell_type": "markdown",
   "id": "8afb56b4",
   "metadata": {},
   "source": [
    "###### 20.isdecimal()\n",
    "The isdecimal() method returns True if all the characters are decimals (0-9)."
   ]
  },
  {
   "cell_type": "code",
   "execution_count": 112,
   "id": "a2d2c2f5",
   "metadata": {},
   "outputs": [
    {
     "name": "stdout",
     "output_type": "stream",
     "text": [
      "True\n",
      "False\n"
     ]
    }
   ],
   "source": [
    "txt = \"687847289\"\n",
    "x = txt.isdecimal()\n",
    "print(x)\n",
    "\n",
    "txt = \"hello\"\n",
    "x = txt.isdecimal()\n",
    "print(x)"
   ]
  },
  {
   "cell_type": "markdown",
   "id": "bbdb2d96",
   "metadata": {},
   "source": []
  }
 ],
 "metadata": {
  "kernelspec": {
   "display_name": "Python 3 (ipykernel)",
   "language": "python",
   "name": "python3"
  },
  "language_info": {
   "codemirror_mode": {
    "name": "ipython",
    "version": 3
   },
   "file_extension": ".py",
   "mimetype": "text/x-python",
   "name": "python",
   "nbconvert_exporter": "python",
   "pygments_lexer": "ipython3",
   "version": "3.10.9"
  }
 },
 "nbformat": 4,
 "nbformat_minor": 5
}
