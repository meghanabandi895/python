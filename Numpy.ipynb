{
 "cells": [
  {
   "cell_type": "code",
   "execution_count": 1,
   "id": "04f68d61",
   "metadata": {},
   "outputs": [
    {
     "name": "stdout",
     "output_type": "stream",
     "text": [
      "Requirement already satisfied: numpy in c:\\users\\91709\\anaconda3\\lib\\site-packages (1.23.5)\n"
     ]
    }
   ],
   "source": [
    "!pip install numpy"
   ]
  },
  {
   "cell_type": "code",
   "execution_count": 27,
   "id": "e6ba5019",
   "metadata": {},
   "outputs": [
    {
     "name": "stdout",
     "output_type": "stream",
     "text": [
      "[8 9 5]\n",
      "1\n"
     ]
    }
   ],
   "source": [
    "import numpy as np\n",
    "a = np.array([8, 9, 5])\n",
    "print(a)\n",
    "print(a.ndim)"
   ]
  },
  {
   "cell_type": "code",
   "execution_count": 26,
   "id": "4a4689be",
   "metadata": {},
   "outputs": [
    {
     "name": "stdout",
     "output_type": "stream",
     "text": [
      "[[2.3 4.  6. ]\n",
      " [3.  6.  7. ]]\n",
      "2\n"
     ]
    }
   ],
   "source": [
    "b = np.array([(2.3,4,6),(3,6,7)])\n",
    "print(b)\n",
    "print(b.ndim)"
   ]
  },
  {
   "cell_type": "code",
   "execution_count": 25,
   "id": "2af3c75d",
   "metadata": {},
   "outputs": [
    {
     "name": "stdout",
     "output_type": "stream",
     "text": [
      "[[[2 5 6]\n",
      "  [6 7 8]]\n",
      "\n",
      " [[8 9 4]\n",
      "  [6 8 3]]]\n",
      "3\n"
     ]
    }
   ],
   "source": [
    "c = np.array([[(2,5,6),(6,7,8)],[(8,9,4),(6,8,3)]])\n",
    "print(c)\n",
    "print(c.ndim)"
   ]
  },
  {
   "cell_type": "code",
   "execution_count": 28,
   "id": "923a4403",
   "metadata": {},
   "outputs": [
    {
     "name": "stdout",
     "output_type": "stream",
     "text": [
      "['hello']\n",
      "1\n"
     ]
    }
   ],
   "source": [
    "d = np.array([\"hello\"])\n",
    "print(d)\n",
    "print(d.ndim)"
   ]
  },
  {
   "cell_type": "code",
   "execution_count": 29,
   "id": "a96c9ebb",
   "metadata": {},
   "outputs": [
    {
     "name": "stdout",
     "output_type": "stream",
     "text": [
      "[['h' 'e' 'l' 'l' 'o']\n",
      " ['w' 'o' 'r' 'l' 'd']]\n",
      "2\n"
     ]
    }
   ],
   "source": [
    "e = np.array([(\"h\",\"e\",\"l\",\"l\",\"o\"),(\"w\",\"o\",\"r\",\"l\",\"d\")])\n",
    "print(e)\n",
    "print(e.ndim)"
   ]
  },
  {
   "cell_type": "code",
   "execution_count": 34,
   "id": "211622ca",
   "metadata": {},
   "outputs": [
    {
     "name": "stdout",
     "output_type": "stream",
     "text": [
      "['hello' 'world']\n",
      "1\n"
     ]
    }
   ],
   "source": [
    "f = np.array([\"hello\",\"world\"])\n",
    "print(f)\n",
    "print(f.ndim)"
   ]
  },
  {
   "cell_type": "code",
   "execution_count": 44,
   "id": "f5126d79",
   "metadata": {},
   "outputs": [
    {
     "name": "stdout",
     "output_type": "stream",
     "text": [
      "[[0. 0.]\n",
      " [0. 0.]\n",
      " [0. 0.]\n",
      " [0. 0.]]\n"
     ]
    }
   ],
   "source": [
    "#place holders\n",
    "a = np.zeros((4,2)) #(rows,colums)\n",
    "print(a)"
   ]
  },
  {
   "cell_type": "code",
   "execution_count": 47,
   "id": "53779afa",
   "metadata": {},
   "outputs": [
    {
     "name": "stdout",
     "output_type": "stream",
     "text": [
      "[[[1. 1.]\n",
      "  [1. 1.]\n",
      "  [1. 1.]]\n",
      "\n",
      " [[1. 1.]\n",
      "  [1. 1.]\n",
      "  [1. 1.]]]\n"
     ]
    }
   ],
   "source": [
    "b = np.ones((2,3,2)) #(shape,rows,colums)\n",
    "print(b)"
   ]
  },
  {
   "cell_type": "code",
   "execution_count": 48,
   "id": "66ff1ec1",
   "metadata": {},
   "outputs": [
    {
     "name": "stdout",
     "output_type": "stream",
     "text": [
      "[ 2  4  6  8 10 12 14 16 18 20 22 24 26 28]\n"
     ]
    }
   ],
   "source": [
    "c = np.arange(2,30,2)#(startvalue,endvalue,steps)(steps n-1,3-2=1)\n",
    "print(c)"
   ]
  },
  {
   "cell_type": "code",
   "execution_count": 52,
   "id": "425dc493",
   "metadata": {},
   "outputs": [
    {
     "name": "stdout",
     "output_type": "stream",
     "text": [
      "[ 2.5  5.   7.5 10.  12.5]\n"
     ]
    }
   ],
   "source": [
    "d = np.arange(2.5,14.5,2.5)\n",
    "print(d)"
   ]
  },
  {
   "cell_type": "code",
   "execution_count": 51,
   "id": "cb26425c",
   "metadata": {},
   "outputs": [
    {
     "name": "stdout",
     "output_type": "stream",
     "text": [
      "[ 1.          2.44444444  3.88888889  5.33333333  6.77777778  8.22222222\n",
      "  9.66666667 11.11111111 12.55555556 14.        ]\n"
     ]
    }
   ],
   "source": [
    "a = np.linspace(1,14,10) #(startvalue,endvalue,any no of samples)\n",
    "print(a)"
   ]
  },
  {
   "cell_type": "code",
   "execution_count": 57,
   "id": "d32c9fae",
   "metadata": {},
   "outputs": [
    {
     "name": "stdout",
     "output_type": "stream",
     "text": [
      "[10 10 10 10 10 10 10 10 10 10]\n",
      "1\n"
     ]
    }
   ],
   "source": [
    "#constant values\n",
    "a = np.full((10),10)\n",
    "print(a)\n",
    "print(a.ndim)"
   ]
  },
  {
   "cell_type": "code",
   "execution_count": 60,
   "id": "2556ccc1",
   "metadata": {},
   "outputs": [
    {
     "name": "stdout",
     "output_type": "stream",
     "text": [
      "[[5 5 5 5 5]\n",
      " [5 5 5 5 5]]\n",
      "2\n"
     ]
    }
   ],
   "source": [
    "b = np.full((2,5),5)\n",
    "print(b)\n",
    "print(b.ndim)"
   ]
  },
  {
   "cell_type": "code",
   "execution_count": 61,
   "id": "d8c57718",
   "metadata": {},
   "outputs": [
    {
     "name": "stdout",
     "output_type": "stream",
     "text": [
      "[[[5 5 5 5 5 5]\n",
      "  [5 5 5 5 5 5]\n",
      "  [5 5 5 5 5 5]\n",
      "  [5 5 5 5 5 5]\n",
      "  [5 5 5 5 5 5]]\n",
      "\n",
      " [[5 5 5 5 5 5]\n",
      "  [5 5 5 5 5 5]\n",
      "  [5 5 5 5 5 5]\n",
      "  [5 5 5 5 5 5]\n",
      "  [5 5 5 5 5 5]]]\n",
      "3\n"
     ]
    }
   ],
   "source": [
    "c = np.full((2,5,6),5)\n",
    "print(c)\n",
    "print(c.ndim)"
   ]
  },
  {
   "cell_type": "code",
   "execution_count": 63,
   "id": "9dedf318",
   "metadata": {},
   "outputs": [
    {
     "name": "stdout",
     "output_type": "stream",
     "text": [
      "[[1. 0.]\n",
      " [0. 1.]]\n"
     ]
    }
   ],
   "source": [
    "#create a 2*2 identity matrix\n",
    "a = np.eye(2)\n",
    "print(a)"
   ]
  },
  {
   "cell_type": "code",
   "execution_count": 66,
   "id": "c65db091",
   "metadata": {},
   "outputs": [
    {
     "name": "stdout",
     "output_type": "stream",
     "text": [
      "[[1. 0. 0. 0. 0.]\n",
      " [0. 1. 0. 0. 0.]\n",
      " [0. 0. 1. 0. 0.]\n",
      " [0. 0. 0. 1. 0.]\n",
      " [0. 0. 0. 0. 1.]]\n"
     ]
    }
   ],
   "source": [
    "b = np.eye(5)\n",
    "print(b)"
   ]
  },
  {
   "cell_type": "code",
   "execution_count": 73,
   "id": "57c24701",
   "metadata": {},
   "outputs": [
    {
     "name": "stdout",
     "output_type": "stream",
     "text": [
      "[[0.10665488 0.74981117 0.54883855 0.81682947 0.48581999 0.47299423\n",
      "  0.72662886 0.47651003 0.47835322]\n",
      " [0.51048434 0.53664929 0.23427393 0.71031011 0.92393337 0.71111853\n",
      "  0.40871253 0.72920838 0.62375713]\n",
      " [0.6662356  0.32228545 0.2110939  0.91498525 0.04831908 0.97392594\n",
      "  0.55461988 0.23591282 0.63577335]]\n"
     ]
    }
   ],
   "source": [
    "#create an array with random value\n",
    "a = np.random.random((3,9))\n",
    "print(a)"
   ]
  },
  {
   "cell_type": "code",
   "execution_count": 78,
   "id": "e7cf2185",
   "metadata": {},
   "outputs": [
    {
     "name": "stdout",
     "output_type": "stream",
     "text": [
      "[4 9]\n"
     ]
    }
   ],
   "source": [
    "b = np.random.randint((6,15))\n",
    "print(b)"
   ]
  },
  {
   "cell_type": "code",
   "execution_count": 79,
   "id": "d992f884",
   "metadata": {},
   "outputs": [
    {
     "name": "stdout",
     "output_type": "stream",
     "text": [
      "(4,)\n"
     ]
    }
   ],
   "source": [
    "#to find shape of an array\n",
    "arr = np.array([1,2,3,4])\n",
    "print(arr.shape)"
   ]
  },
  {
   "cell_type": "code",
   "execution_count": 81,
   "id": "da65ee39",
   "metadata": {},
   "outputs": [
    {
     "name": "stdout",
     "output_type": "stream",
     "text": [
      "(2, 4)\n"
     ]
    }
   ],
   "source": [
    "arr = np.array([[1,2,3,4],[5,6,7,8]])\n",
    "print(arr.shape)"
   ]
  },
  {
   "cell_type": "code",
   "execution_count": 99,
   "id": "4d749811",
   "metadata": {},
   "outputs": [
    {
     "name": "stdout",
     "output_type": "stream",
     "text": [
      "(2, 4)\n"
     ]
    }
   ],
   "source": [
    "arr = np.array([[\"h\",2,\"e\",4],[\"w\",6,\"u\",8]])\n",
    "print(arr.shape)"
   ]
  },
  {
   "cell_type": "code",
   "execution_count": 100,
   "id": "d34ca0f4",
   "metadata": {},
   "outputs": [
    {
     "name": "stdout",
     "output_type": "stream",
     "text": [
      "(1, 4, 3)\n",
      "3\n"
     ]
    }
   ],
   "source": [
    "arr = np.array([[[1,\"e\",3],\n",
    "                 [4,\"i\",6],\n",
    "                [7,\"o\",9],\n",
    "                [5,\"t\",7]]])\n",
    "print(arr.shape)\n",
    "print(arr.ndim)"
   ]
  },
  {
   "cell_type": "code",
   "execution_count": 97,
   "id": "80f13cd4",
   "metadata": {},
   "outputs": [
    {
     "name": "stdout",
     "output_type": "stream",
     "text": [
      "8\n"
     ]
    }
   ],
   "source": [
    "#to find no of elements in array\n",
    "a = np.array([[1,2,3,4],\n",
    "             [5,6,7,8]\n",
    "              ])\n",
    "print(a.size)"
   ]
  },
  {
   "cell_type": "code",
   "execution_count": 98,
   "id": "f36fa101",
   "metadata": {},
   "outputs": [
    {
     "name": "stdout",
     "output_type": "stream",
     "text": [
      "10\n"
     ]
    }
   ],
   "source": [
    "b = np.array([[\"h\",\"e\",\"l\",\"l\",\"o\"],\n",
    "            [\"w\",\"o\",\"r\",\"l\",\"d\"]])\n",
    "print(b.size)"
   ]
  },
  {
   "cell_type": "code",
   "execution_count": 113,
   "id": "e10a9bd5",
   "metadata": {},
   "outputs": [
    {
     "name": "stdout",
     "output_type": "stream",
     "text": [
      "4\n"
     ]
    }
   ],
   "source": [
    "#to find len of array\n",
    "i = np.array([\"m\",\"e\",\"g\",\"h\"])\n",
    "print(len(i))"
   ]
  },
  {
   "cell_type": "code",
   "execution_count": 115,
   "id": "7649e56f",
   "metadata": {},
   "outputs": [
    {
     "name": "stdout",
     "output_type": "stream",
     "text": [
      "2\n",
      "2\n"
     ]
    }
   ],
   "source": [
    "g = np.array([(5,6,7),\n",
    "               (1,2,3)])\n",
    "print(len(g))\n",
    "print(g.ndim)"
   ]
  },
  {
   "cell_type": "code",
   "execution_count": 120,
   "id": "2f80b6c7",
   "metadata": {},
   "outputs": [
    {
     "name": "stdout",
     "output_type": "stream",
     "text": [
      "3\n",
      "2\n"
     ]
    }
   ],
   "source": [
    "h = np.array([[(1,2,3),\n",
    "              (4,5,6)],\n",
    "              [(6,3,7),\n",
    "              (5,9,8)]])\n",
    "print(h.ndim)\n",
    "print(len(h))"
   ]
  }
 ],
 "metadata": {
  "kernelspec": {
   "display_name": "Python 3 (ipykernel)",
   "language": "python",
   "name": "python3"
  },
  "language_info": {
   "codemirror_mode": {
    "name": "ipython",
    "version": 3
   },
   "file_extension": ".py",
   "mimetype": "text/x-python",
   "name": "python",
   "nbconvert_exporter": "python",
   "pygments_lexer": "ipython3",
   "version": "3.10.9"
  }
 },
 "nbformat": 4,
 "nbformat_minor": 5
}
