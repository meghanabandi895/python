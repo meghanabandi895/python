{
 "cells": [
  {
   "cell_type": "markdown",
   "id": "8da4aef2",
   "metadata": {},
   "source": [
    "## Tuple"
   ]
  },
  {
   "cell_type": "markdown",
   "id": "fd25308b",
   "metadata": {},
   "source": [
    "Tuples are used to store multiple items in a single variable."
   ]
  },
  {
   "cell_type": "markdown",
   "id": "f7741cc3",
   "metadata": {},
   "source": [
    "Tuple is one of 4 built-in data types in Python used to store collections of data, the other 3 are List, Set, and Dictionary, all with different qualities and usage."
   ]
  },
  {
   "cell_type": "markdown",
   "id": "346df893",
   "metadata": {},
   "source": [
    "Tuples are similar to lists,but the difference is tuple cannot be modified once they created"
   ]
  },
  {
   "cell_type": "markdown",
   "id": "f1f9305a",
   "metadata": {},
   "source": [
    "They are defined using paratnesis() and seperated by commas(,)"
   ]
  },
  {
   "cell_type": "markdown",
   "id": "22124519",
   "metadata": {},
   "source": [
    "#### Features of tuple"
   ]
  },
  {
   "cell_type": "markdown",
   "id": "f26fa943",
   "metadata": {},
   "source": [
    "Tuples are immutable data type,meaning their elements cannot be changed after they are generated"
   ]
  },
  {
   "cell_type": "markdown",
   "id": "08999f10",
   "metadata": {},
   "source": [
    "Each element in atuple has a specific order that will never change because tuples are ordered sequence"
   ]
  },
  {
   "cell_type": "markdown",
   "id": "aafd543a",
   "metadata": {},
   "source": [
    "##### Creating a tuple"
   ]
  },
  {
   "cell_type": "code",
   "execution_count": 2,
   "id": "96b40544",
   "metadata": {},
   "outputs": [
    {
     "name": "stdout",
     "output_type": "stream",
     "text": [
      "<class 'tuple'>\n"
     ]
    }
   ],
   "source": [
    "#Tuple with elements\n",
    "colors = (\"black\",\"yellow\",\"orange\",\"brown\")\n",
    "colors\n",
    "print(type(colors))"
   ]
  },
  {
   "cell_type": "code",
   "execution_count": 3,
   "id": "1f301f8d",
   "metadata": {},
   "outputs": [
    {
     "name": "stdout",
     "output_type": "stream",
     "text": [
      "(9, 'mango', 8.95, False)\n"
     ]
    }
   ],
   "source": [
    "#mixed with data types\n",
    "data = (9,\"mango\",8.95,False)\n",
    "print(data)"
   ]
  },
  {
   "cell_type": "code",
   "execution_count": 5,
   "id": "9bcba317",
   "metadata": {},
   "outputs": [
    {
     "name": "stdout",
     "output_type": "stream",
     "text": [
      "<class 'tuple'>\n",
      "(89,)\n"
     ]
    }
   ],
   "source": [
    "#single element tuple\n",
    "single_element_tuple = (89,)\n",
    "print(type(single_element_tuple))\n",
    "print(single_element_tuple)"
   ]
  },
  {
   "cell_type": "markdown",
   "id": "9e95d1bf",
   "metadata": {},
   "source": [
    "###### Accessing of tuples"
   ]
  },
  {
   "cell_type": "markdown",
   "id": "8f4c5dda",
   "metadata": {},
   "source": [
    "Tuples support indexing and slicing like lists"
   ]
  },
  {
   "cell_type": "code",
   "execution_count": 6,
   "id": "4318e8be",
   "metadata": {},
   "outputs": [
    {
     "name": "stdout",
     "output_type": "stream",
     "text": [
      "blue\n",
      "('blue', 'red', 'yellow')\n"
     ]
    }
   ],
   "source": [
    "colors = (\"black\",\"blue\",\"red\",\"yellow\")\n",
    "print(colors[1])\n",
    "print(colors[1:9])"
   ]
  },
  {
   "cell_type": "markdown",
   "id": "3462d1af",
   "metadata": {},
   "source": [
    "###### Immutability"
   ]
  },
  {
   "cell_type": "markdown",
   "id": "e61918fc",
   "metadata": {},
   "source": [
    "Once a tuple is created you cannot change the elements or add/remove elements"
   ]
  },
  {
   "cell_type": "code",
   "execution_count": 7,
   "id": "f2c4c6c2",
   "metadata": {},
   "outputs": [
    {
     "ename": "TypeError",
     "evalue": "'tuple' object does not support item assignment",
     "output_type": "error",
     "traceback": [
      "\u001b[1;31m---------------------------------------------------------------------------\u001b[0m",
      "\u001b[1;31mTypeError\u001b[0m                                 Traceback (most recent call last)",
      "Cell \u001b[1;32mIn[7], line 2\u001b[0m\n\u001b[0;32m      1\u001b[0m colors \u001b[38;5;241m=\u001b[39m (\u001b[38;5;124m\"\u001b[39m\u001b[38;5;124mblack\u001b[39m\u001b[38;5;124m\"\u001b[39m,\u001b[38;5;124m\"\u001b[39m\u001b[38;5;124mred\u001b[39m\u001b[38;5;124m\"\u001b[39m,\u001b[38;5;124m\"\u001b[39m\u001b[38;5;124myellow\u001b[39m\u001b[38;5;124m\"\u001b[39m)\n\u001b[1;32m----> 2\u001b[0m colors[\u001b[38;5;241m1\u001b[39m] \u001b[38;5;241m=\u001b[39m \u001b[38;5;124m\"\u001b[39m\u001b[38;5;124morange\u001b[39m\u001b[38;5;124m\"\u001b[39m\n\u001b[0;32m      3\u001b[0m \u001b[38;5;28mprint\u001b[39m(colors)\n",
      "\u001b[1;31mTypeError\u001b[0m: 'tuple' object does not support item assignment"
     ]
    }
   ],
   "source": [
    "colors = (\"black\",\"red\",\"yellow\")\n",
    "colors[1] = \"orange\"\n",
    "print(colors)"
   ]
  },
  {
   "cell_type": "markdown",
   "id": "81fb5ceb",
   "metadata": {},
   "source": [
    "##### Tuple Operations"
   ]
  },
  {
   "cell_type": "markdown",
   "id": "a00cd65c",
   "metadata": {},
   "source": [
    "Concatenation\n"
   ]
  },
  {
   "cell_type": "markdown",
   "id": "e3bb5d5c",
   "metadata": {},
   "source": [
    "combine two tuples"
   ]
  },
  {
   "cell_type": "code",
   "execution_count": 8,
   "id": "f704de62",
   "metadata": {},
   "outputs": [
    {
     "name": "stdout",
     "output_type": "stream",
     "text": [
      "(1, 2, 3, 4, 5, 'black', 'blue', 'orange')\n"
     ]
    }
   ],
   "source": [
    "tuple1 = (1,2,3,4,5)\n",
    "tuple2 = (\"black\",\"blue\",\"orange\")\n",
    "tuple3 = tuple1+tuple2\n",
    "print(tuple3)"
   ]
  },
  {
   "cell_type": "markdown",
   "id": "270871ad",
   "metadata": {},
   "source": [
    "Repetetion"
   ]
  },
  {
   "cell_type": "markdown",
   "id": "a8fc133f",
   "metadata": {},
   "source": [
    "repeating a tuple"
   ]
  },
  {
   "cell_type": "code",
   "execution_count": 9,
   "id": "65446feb",
   "metadata": {},
   "outputs": [
    {
     "name": "stdout",
     "output_type": "stream",
     "text": [
      "(8, 9, 5, 8, 9, 5, 8, 9, 5)\n"
     ]
    }
   ],
   "source": [
    "tuple1 = (8,9,5)\n",
    "tuple2 = tuple1*3\n",
    "print(tuple2)"
   ]
  },
  {
   "cell_type": "markdown",
   "id": "1a2ffe85",
   "metadata": {},
   "source": [
    "##### Tuple methods"
   ]
  },
  {
   "cell_type": "markdown",
   "id": "784e56a0",
   "metadata": {},
   "source": [
    "###### 1.count()"
   ]
  },
  {
   "cell_type": "markdown",
   "id": "49b2a1e1",
   "metadata": {},
   "source": [
    "Returns the number of occurences of a specified value"
   ]
  },
  {
   "cell_type": "code",
   "execution_count": 10,
   "id": "9308ba78",
   "metadata": {},
   "outputs": [
    {
     "name": "stdout",
     "output_type": "stream",
     "text": [
      "5\n"
     ]
    }
   ],
   "source": [
    "num = (9,6,8,4,6,3,8,9,3,6,7,5,6,7,8,9,8,6,8)\n",
    "count_of_2 = num.count(8)\n",
    "print(count_of_2)"
   ]
  },
  {
   "cell_type": "markdown",
   "id": "6c5dc8c0",
   "metadata": {},
   "source": [
    "###### 2.index()"
   ]
  },
  {
   "cell_type": "markdown",
   "id": "b5815c8e",
   "metadata": {},
   "source": [
    "returns the index of the first occurence of a specified value"
   ]
  },
  {
   "cell_type": "code",
   "execution_count": 12,
   "id": "8fd6d24e",
   "metadata": {},
   "outputs": [
    {
     "name": "stdout",
     "output_type": "stream",
     "text": [
      "2\n"
     ]
    }
   ],
   "source": [
    "num = (5,8,9,5,7,5,7,5,3,5)\n",
    "index_of_3 = num.index(9)\n",
    "print(index_of_3)"
   ]
  },
  {
   "cell_type": "code",
   "execution_count": null,
   "id": "fbc062af",
   "metadata": {},
   "outputs": [],
   "source": []
  }
 ],
 "metadata": {
  "kernelspec": {
   "display_name": "Python 3 (ipykernel)",
   "language": "python",
   "name": "python3"
  },
  "language_info": {
   "codemirror_mode": {
    "name": "ipython",
    "version": 3
   },
   "file_extension": ".py",
   "mimetype": "text/x-python",
   "name": "python",
   "nbconvert_exporter": "python",
   "pygments_lexer": "ipython3",
   "version": "3.10.9"
  }
 },
 "nbformat": 4,
 "nbformat_minor": 5
}
