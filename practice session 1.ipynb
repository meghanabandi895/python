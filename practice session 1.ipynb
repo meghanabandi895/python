{
 "cells": [
  {
   "cell_type": "code",
   "execution_count": 17,
   "id": "68cb341a",
   "metadata": {},
   "outputs": [
    {
     "name": "stdout",
     "output_type": "stream",
     "text": [
      "Enter first number:42\n",
      "Enter second number:89\n",
      "Enter third number:69\n",
      "largest = 89\n"
     ]
    }
   ],
   "source": [
    "# Write a program to find the largest of three numbers entered by the user\n",
    "x = int(input(\"Enter first number:\"))\n",
    "y = int(input(\"Enter second number:\"))\n",
    "z = int(input(\"Enter third number:\"))\n",
    "if (x >= y) and (x >= z):\n",
    "    print(\"largest =\", x)\n",
    "elif (y >= z) and (y >= x):\n",
    "    print(\"largest =\", y)\n",
    "else:\n",
    "    print(\"largest =\", z)"
   ]
  },
  {
   "cell_type": "code",
   "execution_count": 22,
   "id": "f77989cc",
   "metadata": {},
   "outputs": [
    {
     "name": "stdout",
     "output_type": "stream",
     "text": [
      "Enter a number:11\n",
      "not divisible\n"
     ]
    }
   ],
   "source": [
    "Write a program to check if a number is divisible by both 5 and 11.#\n",
    "x = int(input(\"Enter a number:\"))\n",
    "if (x % 5,11)==0:\n",
    "    print(\"Is divisible\")\n",
    "else:\n",
    "    print(\"not divisible\")"
   ]
  },
  {
   "cell_type": "code",
   "execution_count": 10,
   "id": "4204950a",
   "metadata": {},
   "outputs": [
    {
     "name": "stdout",
     "output_type": "stream",
     "text": [
      "Enter a character:9\n",
      "It is digit\n"
     ]
    }
   ],
   "source": [
    "#Write a Python program to check whether the input character is an alphabet, digit, or special character.\n",
    "ch = input(\"Enter a character:\")\n",
    "if ((ch >= 'a') and (ch <= 'z')) or ((ch >= 'A') and (ch <= 'Z')):\n",
    "    print(\" It is alphabet\")\n",
    "elif (ch >= '0') and (ch <= '9'):\n",
    "    print(\"It is digit\")\n",
    "else:\n",
    "    print(\"It is special character\")"
   ]
  },
  {
   "cell_type": "code",
   "execution_count": 14,
   "id": "ab4f632a",
   "metadata": {},
   "outputs": [
    {
     "name": "stdout",
     "output_type": "stream",
     "text": [
      "Enter a character:m\n",
      "lowercase alphabet\n"
     ]
    }
   ],
   "source": [
    "#Write a Python program to check if a given character is an uppercase or lowercase letter.\n",
    "ch = input(\"Enter a character:\")\n",
    "if (ch.isupper()):\n",
    "    print(\"uppercase alphabet\")\n",
    "elif (ch.islower()):\n",
    "    print(\"lowercase alphabet\")\n",
    "else:\n",
    "    print(\"not alphabet\")"
   ]
  },
  {
   "cell_type": "code",
   "execution_count": 19,
   "id": "79dfe132",
   "metadata": {},
   "outputs": [
    {
     "name": "stdout",
     "output_type": "stream",
     "text": [
      "Enter an angle:90\n",
      "right angle\n"
     ]
    }
   ],
   "source": [
    "#Write a program to determine if a given angle is acute, right, or obtuse.\n",
    "x = int(input(\"Enter an angle:\"))\n",
    "if (x <= 30):\n",
    "    print(\"acute angle\")\n",
    "elif (x >= 30 and x <= 90):\n",
    "    print(\"right angle\")\n",
    "else:\n",
    "    print(\"obtuse angle\")"
   ]
  },
  {
   "cell_type": "code",
   "execution_count": 22,
   "id": "8d9e87fc",
   "metadata": {},
   "outputs": [
    {
     "name": "stdout",
     "output_type": "stream",
     "text": [
      "Enter the first length:5\n",
      "Enter the second length:5\n",
      "Enter the third length:5\n",
      "Equilateral triangle\n"
     ]
    }
   ],
   "source": [
    "#Write a Python program to determine the type of triangle based on the lengths of its sides (equilateral, isosceles, or scalene).\n",
    "x = int(input(\"Enter the first length:\"))\n",
    "y = int(input(\"Enter the second length:\"))\n",
    "z = int(input(\"Enter the third length:\"))\n",
    "if (x==y==z):\n",
    "    print(\"Equilateral triangle\")\n",
    "elif (x==y) or (y==z) or (z==x):\n",
    "    print(\"Isosceles traingle\")\n",
    "else:\n",
    "    print(\"Scalene traingle\")"
   ]
  },
  {
   "cell_type": "code",
   "execution_count": 27,
   "id": "520027e4",
   "metadata": {},
   "outputs": [
    {
     "name": "stdout",
     "output_type": "stream",
     "text": [
      "Enter first number:4\n",
      "Enter second number:6\n",
      "Enter third number:5\n",
      "valid triangle\n"
     ]
    }
   ],
   "source": [
    "#Write a Python program to check if three sides can form a valid triangle.\n",
    "x = int(input(\"Enter first number:\"))\n",
    "y = int(input(\"Enter second number:\"))\n",
    "z = int(input(\"Enter third number:\"))\n",
    "if (x+y>=z):\n",
    "    print(\"valid triangle\")\n",
    "else:\n",
    "    print(\"invalid traingle\")\n",
    "    "
   ]
  },
  {
   "cell_type": "code",
   "execution_count": 30,
   "id": "1d6a4631",
   "metadata": {},
   "outputs": [
    {
     "name": "stdout",
     "output_type": "stream",
     "text": [
      "Enter first number:5\n",
      "Enter second number:6\n",
      "Enter third number:10\n",
      "Invalid output\n"
     ]
    }
   ],
   "source": [
    "# Write a Python program to check whether the sum of two numbers is equal to a third number provided by the user.\n",
    "x = int(input(\"Enter first number:\"))\n",
    "y = int(input(\"Enter second number:\"))\n",
    "z = int(input(\"Enter third number:\"))\n",
    "if (x+y==z):\n",
    "    print(\"valid output\")\n",
    "else:\n",
    "    print(\"Invalid output\")"
   ]
  },
  {
   "cell_type": "code",
   "execution_count": 1,
   "id": "a5a7bc00",
   "metadata": {},
   "outputs": [
    {
     "name": "stdout",
     "output_type": "stream",
     "text": [
      "Enter a word:deed\n",
      "It is palindrome\n"
     ]
    }
   ],
   "source": [
    "#Write a Python program to check if a number is a palindrome.\n",
    "word = input(\"Enter a word:\")\n",
    "if word==word[::-1]:\n",
    "    print(\"It is palindrome\")\n",
    "else:\n",
    "    print(\"Not palindrome\")"
   ]
  },
  {
   "cell_type": "code",
   "execution_count": 3,
   "id": "f7ad4cb2",
   "metadata": {},
   "outputs": [
    {
     "name": "stdout",
     "output_type": "stream",
     "text": [
      "Enter a number:-9\n",
      "9\n"
     ]
    }
   ],
   "source": [
    "#Write a Python program to find the absolute value of a number.\n",
    "x=int(input(\"Enter a number:\"))\n",
    "if x>=0:\n",
    "    print(x)\n",
    "else:\n",
    "    print(x *-1)\n",
    "     "
   ]
  },
  {
   "cell_type": "code",
   "execution_count": 4,
   "id": "800f99b1",
   "metadata": {},
   "outputs": [
    {
     "name": "stdout",
     "output_type": "stream",
     "text": [
      "Enter the year:2020\n",
      "not century year\n"
     ]
    }
   ],
   "source": [
    "#Write a program to determine whether a given year is a century year or not.\n",
    "year =int(input(\"Enter the year:\"))\n",
    "if year%100==0:\n",
    "    print(\"century year\")\n",
    "else:\n",
    "    print(\"not century year\")\n"
   ]
  },
  {
   "cell_type": "code",
   "execution_count": 5,
   "id": "30ef6271",
   "metadata": {},
   "outputs": [
    {
     "name": "stdout",
     "output_type": "stream",
     "text": [
      "Enter a number:14\n",
      "large\n"
     ]
    }
   ],
   "source": [
    "#Write a program to classify a number as small, medium, or large based on given thresholds.\n",
    "threshold=9\n",
    "x=int(input(\"Enter a number:\"))\n",
    "if x>=threshold:\n",
    "    print(\"large\")\n",
    "elif x<=threshold:\n",
    "    print(\"medium\")\n",
    "else:\n",
    "    print(\"small\")\n",
    "     "
   ]
  },
  {
   "cell_type": "code",
   "execution_count": null,
   "id": "5986d06f",
   "metadata": {},
   "outputs": [],
   "source": []
  }
 ],
 "metadata": {
  "kernelspec": {
   "display_name": "Python 3 (ipykernel)",
   "language": "python",
   "name": "python3"
  },
  "language_info": {
   "codemirror_mode": {
    "name": "ipython",
    "version": 3
   },
   "file_extension": ".py",
   "mimetype": "text/x-python",
   "name": "python",
   "nbconvert_exporter": "python",
   "pygments_lexer": "ipython3",
   "version": "3.10.9"
  }
 },
 "nbformat": 4,
 "nbformat_minor": 5
}
