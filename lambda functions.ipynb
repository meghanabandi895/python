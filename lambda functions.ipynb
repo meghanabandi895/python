{
 "cells": [
  {
   "cell_type": "markdown",
   "id": "9e4d860d",
   "metadata": {},
   "source": [
    "## Lambda function"
   ]
  },
  {
   "cell_type": "raw",
   "id": "c4e2aa7e",
   "metadata": {},
   "source": [
    "A lambda function is a small anonymous function.\n",
    "A lambda function can take any number of arguments, but can only have one expression."
   ]
  },
  {
   "cell_type": "code",
   "execution_count": 3,
   "id": "f64d3ee0",
   "metadata": {},
   "outputs": [
    {
     "name": "stdout",
     "output_type": "stream",
     "text": [
      "100\n"
     ]
    }
   ],
   "source": [
    "x = lambda a : a + 90\n",
    "print(x(10))"
   ]
  },
  {
   "cell_type": "code",
   "execution_count": 4,
   "id": "8cd19c44",
   "metadata": {},
   "outputs": [
    {
     "name": "stdout",
     "output_type": "stream",
     "text": [
      "22\n"
     ]
    }
   ],
   "source": [
    "m = lambda a,b,c:a+b+c\n",
    "result=m(9,8,5)\n",
    "print(result)"
   ]
  },
  {
   "cell_type": "markdown",
   "id": "a38eab9a",
   "metadata": {},
   "source": [
    "##### Filter()"
   ]
  },
  {
   "cell_type": "raw",
   "id": "b7a6a9f8",
   "metadata": {},
   "source": [
    "The filter function filters elements in an iterable based on a specified predicate. Only elements for which the predicate returns True are included in the new iterable.\n",
    "Predicate is a function that takes one argument and returns a boolean value (True or False). Iterable elements here will be tested by the predicate."
   ]
  },
  {
   "cell_type": "code",
   "execution_count": 13,
   "id": "c32e53ae",
   "metadata": {},
   "outputs": [
    {
     "name": "stdout",
     "output_type": "stream",
     "text": [
      "[25, 76, 84, 18, 32, 45, 68, 72, 56]\n"
     ]
    }
   ],
   "source": [
    "ages = [25,76,84,18,32,45,68,72,12,14,56]\n",
    "x = filter(lambda age: age >= 18, ages)\n",
    "print(list(x))"
   ]
  },
  {
   "cell_type": "code",
   "execution_count": 7,
   "id": "98fb906c",
   "metadata": {},
   "outputs": [
    {
     "name": "stdout",
     "output_type": "stream",
     "text": [
      "[2, 4, 6, 8, 10, 12, 14, 16, 18, 20]\n"
     ]
    }
   ],
   "source": [
    "num=[1,2,3,4,5,6,7,8,9,10,11,12,13,14,15,16,17,18,19,20]\n",
    "even_numbers=filter(lambda x: (x%2==0),num)\n",
    "print(list(even_numbers))"
   ]
  },
  {
   "cell_type": "code",
   "execution_count": 8,
   "id": "344068a4",
   "metadata": {},
   "outputs": [
    {
     "name": "stdout",
     "output_type": "stream",
     "text": [
      "[1, 3, 5, 7, 9, 11, 13, 15, 17, 19]\n"
     ]
    }
   ],
   "source": [
    "num=[1,2,3,4,5,6,7,8,9,10,11,12,13,14,15,16,17,18,19,20]\n",
    "odd_numbers=filter(lambda x: (x%2!=0),num)\n",
    "print(list(odd_numbers))\n",
    "     "
   ]
  },
  {
   "cell_type": "markdown",
   "id": "b855e23e",
   "metadata": {},
   "source": [
    "##### map()"
   ]
  },
  {
   "cell_type": "raw",
   "id": "59a5edee",
   "metadata": {},
   "source": [
    "The map function applies a specified function to each item in an iterable (like a list) and returns a new iterable with the updated items.\n",
    "function here takes one argument and returns a value.\n",
    "iterable's elements (for example, list, tuple) will be passed to the function."
   ]
  },
  {
   "cell_type": "code",
   "execution_count": 4,
   "id": "ef4d9b64",
   "metadata": {},
   "outputs": [
    {
     "name": "stdout",
     "output_type": "stream",
     "text": [
      "[1, 4, 9, 16, 25, 36]\n"
     ]
    }
   ],
   "source": [
    "num = [1,2,3,4,5,6]\n",
    "x = map(lambda x: x**2,num)\n",
    "print(list(x))"
   ]
  },
  {
   "cell_type": "code",
   "execution_count": 2,
   "id": "2e358205",
   "metadata": {},
   "outputs": [
    {
     "name": "stdout",
     "output_type": "stream",
     "text": [
      "[7, 9, 11, 13, 15]\n"
     ]
    }
   ],
   "source": [
    "x=[1,2,3,4,5]\n",
    "y=[6,7,8,9,10]\n",
    "z=map(lambda x,y : x+y,x,y)\n",
    "print(list(z))\n",
    "     "
   ]
  }
 ],
 "metadata": {
  "kernelspec": {
   "display_name": "Python 3 (ipykernel)",
   "language": "python",
   "name": "python3"
  },
  "language_info": {
   "codemirror_mode": {
    "name": "ipython",
    "version": 3
   },
   "file_extension": ".py",
   "mimetype": "text/x-python",
   "name": "python",
   "nbconvert_exporter": "python",
   "pygments_lexer": "ipython3",
   "version": "3.10.9"
  }
 },
 "nbformat": 4,
 "nbformat_minor": 5
}
