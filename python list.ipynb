{
 "cells": [
  {
   "cell_type": "markdown",
   "id": "4e6bcdc1",
   "metadata": {},
   "source": [
    "### List"
   ]
  },
  {
   "cell_type": "raw",
   "id": "d7a6a967",
   "metadata": {},
   "source": [
    "Lists are used to store multiple items in a single variable.\n",
    "Lists are one of 4 built-in data types in Python used to store collections of data, the other 3 are Tuple, Set, and Dictionary, all with different qualities and usage.\n",
    "Lists are created using square brackets"
   ]
  },
  {
   "cell_type": "code",
   "execution_count": 2,
   "id": "8588f60c",
   "metadata": {},
   "outputs": [
    {
     "name": "stdout",
     "output_type": "stream",
     "text": [
      "['apple', 'guava', 'mango']\n"
     ]
    }
   ],
   "source": [
    "mylist = [\"apple\", \"guava\", \"mango\"]\n",
    "print(mylist)"
   ]
  },
  {
   "cell_type": "markdown",
   "id": "d6a85047",
   "metadata": {},
   "source": [
    "Examples of list"
   ]
  },
  {
   "cell_type": "code",
   "execution_count": 3,
   "id": "c01fe3c6",
   "metadata": {},
   "outputs": [
    {
     "name": "stdout",
     "output_type": "stream",
     "text": [
      "[1, 2, 3, 4, 5]\n",
      "['fruits', 'cars', 'bikes']\n",
      "[True, True, False]\n",
      "[10, 100, 1000, 10000]\n",
      "[6.9, 8.5, 8.9]\n"
     ]
    }
   ],
   "source": [
    "list1 = [1,2,3,4,5]\n",
    "list2 = [\"fruits\",\"cars\",\"bikes\"]\n",
    "list3 = [True,True,False]\n",
    "list4 = [10,100,1000,10000]\n",
    "list5 = [6.9,8.5,8.9]\n",
    "print(list1)\n",
    "print(list2)\n",
    "print(list3)\n",
    "print(list4)\n",
    "print(list5)"
   ]
  },
  {
   "cell_type": "markdown",
   "id": "57ac50b6",
   "metadata": {},
   "source": [
    "##### Indexing"
   ]
  },
  {
   "cell_type": "raw",
   "id": "be1a3e2d",
   "metadata": {},
   "source": [
    "Indexing refers to the process of accessing a specific element in a sequence, such as a string or list, using its position or index number.\n",
    "Indexing in Python starts at 0, which means that the first element in a sequence has an index of 0, the second element has an index of 1, and so on."
   ]
  },
  {
   "cell_type": "code",
   "execution_count": 6,
   "id": "988a4260",
   "metadata": {},
   "outputs": [
    {
     "name": "stdout",
     "output_type": "stream",
     "text": [
      "1\n"
     ]
    }
   ],
   "source": [
    "fruits = [\"apple\",\"mango\",\"guava\"]\n",
    "print(fruits.index(\"mango\"))"
   ]
  },
  {
   "cell_type": "markdown",
   "id": "53b957ef",
   "metadata": {},
   "source": [
    "###### Positive Index"
   ]
  },
  {
   "cell_type": "markdown",
   "id": "fa57201b",
   "metadata": {},
   "source": [
    "In Python, positive zero-based indexing is the fundamental method for accessing iterable items."
   ]
  },
  {
   "cell_type": "markdown",
   "id": "fc8d904e",
   "metadata": {},
   "source": [
    "As a result, an index starting at 0 may refer to any element in the iterable. "
   ]
  },
  {
   "cell_type": "markdown",
   "id": "520ebc6b",
   "metadata": {},
   "source": [
    "The first element in zero-based indexing has an index of 0, the second has an index of 1, and so on"
   ]
  },
  {
   "cell_type": "markdown",
   "id": "2cc9cdce",
   "metadata": {},
   "source": [
    "Examples of positive indexing"
   ]
  },
  {
   "cell_type": "code",
   "execution_count": 7,
   "id": "5253df93",
   "metadata": {},
   "outputs": [
    {
     "name": "stdout",
     "output_type": "stream",
     "text": [
      "9\n",
      "8\n",
      "7\n",
      "6\n",
      "5\n"
     ]
    }
   ],
   "source": [
    "mylist = [9,8,7,6,5]\n",
    "print(mylist[0])\n",
    "print(mylist[1])\n",
    "print(mylist[2])\n",
    "print(mylist[3])\n",
    "print(mylist[4])"
   ]
  },
  {
   "cell_type": "markdown",
   "id": "bf5eaf7a",
   "metadata": {},
   "source": [
    "###### Negative Indexing"
   ]
  },
  {
   "cell_type": "markdown",
   "id": "94e6d90f",
   "metadata": {},
   "source": [
    "Negative indexes start from -1, where -1 represents the last element in the list, -2 represents the second-to-last element, and so forth."
   ]
  },
  {
   "cell_type": "markdown",
   "id": "9a8567e3",
   "metadata": {},
   "source": [
    "examples of negative indexing"
   ]
  },
  {
   "cell_type": "code",
   "execution_count": 8,
   "id": "3274d973",
   "metadata": {},
   "outputs": [
    {
     "name": "stdout",
     "output_type": "stream",
     "text": [
      "5\n",
      "4\n",
      "3\n",
      "2\n",
      "1\n"
     ]
    }
   ],
   "source": [
    "mylist = [1,2,3,4,5]\n",
    "print(mylist[-1])\n",
    "print(mylist[-2])\n",
    "print(mylist[-3])\n",
    "print(mylist[-4])\n",
    "print(mylist[-5])"
   ]
  },
  {
   "cell_type": "markdown",
   "id": "1103af43",
   "metadata": {},
   "source": [
    "###### Slicing"
   ]
  },
  {
   "cell_type": "markdown",
   "id": "f0d93a69",
   "metadata": {},
   "source": [
    "You can return a range of characters by using the slice syntax."
   ]
  },
  {
   "cell_type": "markdown",
   "id": "15ea891e",
   "metadata": {},
   "source": [
    "Specify the start index and the end index, separated by a colon, to return a part of the string."
   ]
  },
  {
   "cell_type": "markdown",
   "id": "1304f9ac",
   "metadata": {},
   "source": [
    "###### Examples of Slicing"
   ]
  },
  {
   "cell_type": "code",
   "execution_count": 9,
   "id": "e71e659e",
   "metadata": {},
   "outputs": [
    {
     "name": "stdout",
     "output_type": "stream",
     "text": [
      "['b', 'c', 'd', 'e']\n",
      "['a', 'b', 'c', 'd', 'e', 'f', 'g', 'h']\n",
      "['a', 'b', 'c', 'd', 'e', 'f', 'g', 'h']\n",
      "['h', 'i', 'j']\n"
     ]
    }
   ],
   "source": [
    "mylist = [\"a\",\"b\",\"c\",\"d\",\"e\",\"f\",\"g\",\"h\",\"i\",\"j\"]\n",
    "print(mylist[1:5])\n",
    "print(mylist[:8])\n",
    "print(mylist[0:8])\n",
    "print(mylist[7:])\n"
   ]
  },
  {
   "cell_type": "markdown",
   "id": "60467905",
   "metadata": {},
   "source": [
    "###### Creating a list of 1 to 20 numbers using positive and negative elements"
   ]
  },
  {
   "cell_type": "code",
   "execution_count": 12,
   "id": "af1c40d0",
   "metadata": {},
   "outputs": [
    {
     "name": "stdout",
     "output_type": "stream",
     "text": [
      "1\n",
      "2\n",
      "3\n",
      "4\n",
      "5\n",
      "6\n",
      "7\n",
      "8\n",
      "9\n",
      "10\n",
      "20\n",
      "19\n",
      "18\n",
      "17\n",
      "16\n",
      "15\n",
      "14\n",
      "13\n",
      "12\n",
      "11\n"
     ]
    }
   ],
   "source": [
    "num = [1,2,3,4,5,6,7,8,9,10,11,12,13,14,15,16,17,18,19,20]\n",
    "print(num[0])\n",
    "print(num[1])\n",
    "print(num[2])\n",
    "print(num[3])\n",
    "print(num[4])\n",
    "print(num[5])\n",
    "print(num[6])\n",
    "print(num[7])\n",
    "print(num[8])\n",
    "print(num[9])\n",
    "print(num[-1])\n",
    "print(num[-2])\n",
    "print(num[-3])\n",
    "print(num[-4])\n",
    "print(num[-5])\n",
    "print(num[-6])\n",
    "print(num[-7])\n",
    "print(num[-8])\n",
    "print(num[-9])\n",
    "print(num[-10])"
   ]
  },
  {
   "cell_type": "markdown",
   "id": "91e415fc",
   "metadata": {},
   "source": [
    "##### Concatenation"
   ]
  },
  {
   "cell_type": "markdown",
   "id": "25406ed2",
   "metadata": {},
   "source": [
    "The '+' operator can be used to concatenate two lists. It appends one list at the end of the other list and results in a new list as output."
   ]
  },
  {
   "cell_type": "code",
   "execution_count": 14,
   "id": "b2f51d93",
   "metadata": {},
   "outputs": [
    {
     "name": "stdout",
     "output_type": "stream",
     "text": [
      "[1, 2, 3, 4, 5, 6]\n"
     ]
    }
   ],
   "source": [
    "a = [1,2,3]\n",
    "x = [4,5,6]\n",
    "y = a+x\n",
    "print(y)"
   ]
  },
  {
   "cell_type": "code",
   "execution_count": 15,
   "id": "30fa3a6a",
   "metadata": {},
   "outputs": [
    {
     "name": "stdout",
     "output_type": "stream",
     "text": [
      "['fruits', 'vegetables']\n"
     ]
    }
   ],
   "source": [
    "L1 = [\"fruits\"]\n",
    "L2 = [\"vegetables\"]\n",
    "L3 = L1+L2\n",
    "print(L3)"
   ]
  },
  {
   "cell_type": "markdown",
   "id": "1b038a9e",
   "metadata": {},
   "source": [
    "##### repetetion"
   ]
  },
  {
   "cell_type": "markdown",
   "id": "50f21bb3",
   "metadata": {},
   "source": [
    "Repetetion in python allows you to repeat sequences such asa strings,lists or tuples multiple times"
   ]
  },
  {
   "cell_type": "code",
   "execution_count": 17,
   "id": "efcd0de6",
   "metadata": {},
   "outputs": [
    {
     "name": "stdout",
     "output_type": "stream",
     "text": [
      "[8, 9, 5, 8, 9, 5, 8, 9, 5]\n",
      "['hello', 'hello', 'hello', 'hello']\n"
     ]
    }
   ],
   "source": [
    "x = [8,9,5]\n",
    "print(x*3)\n",
    "y = [\"hello\"]\n",
    "print(y*4)"
   ]
  },
  {
   "cell_type": "markdown",
   "id": "ecd3d2b9",
   "metadata": {},
   "source": [
    "###### Change list items"
   ]
  },
  {
   "cell_type": "markdown",
   "id": "5c7ce63c",
   "metadata": {},
   "source": [
    "To change a value of a specific item refers to the index numbers"
   ]
  },
  {
   "cell_type": "code",
   "execution_count": 2,
   "id": "82af1ce5",
   "metadata": {},
   "outputs": [
    {
     "name": "stdout",
     "output_type": "stream",
     "text": [
      "['apple', 'mango', 'guava', 'cherry', 'kiwi']\n",
      "['apple', 'mango', 'banana', 'cherry', 'kiwi']\n"
     ]
    }
   ],
   "source": [
    "mylist = [\"apple\",\"mango\",\"guava\",\"cherry\",\"kiwi\"]\n",
    "print(mylist)\n",
    "mylist[2] = \"banana\"\n",
    "print(mylist)"
   ]
  },
  {
   "cell_type": "code",
   "execution_count": 5,
   "id": "0f92270c",
   "metadata": {},
   "outputs": [
    {
     "name": "stdout",
     "output_type": "stream",
     "text": [
      "['apple', 'blackberry', 'watermelon', 'guava', 'kiwi', 'mango']\n"
     ]
    }
   ],
   "source": [
    "mylist = [\"apple\", \"banana\", \"cherry\", \"orange\", \"kiwi\", \"mango\"]\n",
    "mylist[1:4] = [\"blackberry\", \"watermelon\", \"guava\"]\n",
    "print(mylist)"
   ]
  },
  {
   "cell_type": "markdown",
   "id": "82e4e77f",
   "metadata": {},
   "source": [
    "##### List Methods"
   ]
  },
  {
   "cell_type": "markdown",
   "id": "7a0efed4",
   "metadata": {},
   "source": [
    "1.append()"
   ]
  },
  {
   "cell_type": "markdown",
   "id": "8dfc5a2e",
   "metadata": {},
   "source": [
    "Adds an element to the end of the list"
   ]
  },
  {
   "cell_type": "code",
   "execution_count": 6,
   "id": "4dfffd90",
   "metadata": {},
   "outputs": [
    {
     "name": "stdout",
     "output_type": "stream",
     "text": [
      "['mango', 'guava', 'apple', 'banana']\n"
     ]
    }
   ],
   "source": [
    "fruits = [\"mango\",\"guava\",\"apple\"]\n",
    "fruits.append(\"banana\")\n",
    "print(fruits)"
   ]
  },
  {
   "cell_type": "markdown",
   "id": "e63189c4",
   "metadata": {},
   "source": [
    "###### 2.Extend()"
   ]
  },
  {
   "cell_type": "markdown",
   "id": "baf4ff23",
   "metadata": {},
   "source": [
    "appends elements from another iterable to the end"
   ]
  },
  {
   "cell_type": "code",
   "execution_count": 7,
   "id": "0a0ce171",
   "metadata": {},
   "outputs": [
    {
     "name": "stdout",
     "output_type": "stream",
     "text": [
      "['black', 'blue', 'yellow', 'orange', 'pink', 'red', 'violet']\n"
     ]
    }
   ],
   "source": [
    "colors = [\"black\",\"blue\",\"yellow\"]\n",
    "more_colors = [\"orange\",\"pink\",\"red\",\"violet\"]\n",
    "colors.extend(more_colors)\n",
    "print(colors)"
   ]
  },
  {
   "cell_type": "markdown",
   "id": "4ffc0775",
   "metadata": {},
   "source": [
    "###### 3. Insert()"
   ]
  },
  {
   "cell_type": "markdown",
   "id": "216451bd",
   "metadata": {},
   "source": [
    "Insert an element at a specific position"
   ]
  },
  {
   "cell_type": "code",
   "execution_count": 10,
   "id": "0cd50079",
   "metadata": {},
   "outputs": [
    {
     "name": "stdout",
     "output_type": "stream",
     "text": [
      "['ktm', 'herohonda', 'yamaha', 'splendor', 'tvs']\n"
     ]
    }
   ],
   "source": [
    "bikes = [\"ktm\",\"herohonda\",\"splendor\",\"tvs\"]\n",
    "bikes.insert(2,\"yamaha\")\n",
    "print(bikes)"
   ]
  },
  {
   "cell_type": "markdown",
   "id": "17698de8",
   "metadata": {},
   "source": [
    "###### 4.Remove()"
   ]
  },
  {
   "cell_type": "markdown",
   "id": "e9376700",
   "metadata": {},
   "source": [
    "Remove the first occurence of the value"
   ]
  },
  {
   "cell_type": "code",
   "execution_count": 11,
   "id": "996fc5f3",
   "metadata": {},
   "outputs": [
    {
     "name": "stdout",
     "output_type": "stream",
     "text": [
      "['tomato', 'onion', 'brinjal', 'ginger']\n"
     ]
    }
   ],
   "source": [
    "vegetables = [\"tomato\",\"onion\",\"green chilli\",\"brinjal\",\"ginger\"]\n",
    "vegetables.remove(\"green chilli\")\n",
    "print(vegetables)"
   ]
  },
  {
   "cell_type": "code",
   "execution_count": 12,
   "id": "9154fb69",
   "metadata": {},
   "outputs": [
    {
     "name": "stdout",
     "output_type": "stream",
     "text": [
      "['tomato', 'green chilli', 'onion', 'ginger', 'tomato']\n"
     ]
    }
   ],
   "source": [
    "vegetables = [\"tomato\",\"onion\",\"green chilli\",\"onion\",\"ginger\",\"tomato\"]\n",
    "vegetables.remove(\"onion\")\n",
    "print(vegetables)"
   ]
  },
  {
   "cell_type": "markdown",
   "id": "7fcedda8",
   "metadata": {},
   "source": [
    "###### 5.pop()"
   ]
  },
  {
   "cell_type": "markdown",
   "id": "86080464",
   "metadata": {},
   "source": [
    "removes and returns an element at a specified index"
   ]
  },
  {
   "cell_type": "code",
   "execution_count": 14,
   "id": "9e7bd7c2",
   "metadata": {},
   "outputs": [
    {
     "name": "stdout",
     "output_type": "stream",
     "text": [
      "['a', 'b', 'c', 'd', 'e', 'f', 'c']\n",
      "d\n"
     ]
    }
   ],
   "source": [
    "alphabets = [\"a\",\"b\",\"c\",\"d\",\"d\",\"e\",\"f\",\"c\"]\n",
    "popped_element = alphabets.pop(3)\n",
    "print(alphabets)\n",
    "print(popped_element)"
   ]
  },
  {
   "cell_type": "markdown",
   "id": "c14c3597",
   "metadata": {},
   "source": [
    "###### 6.Index()"
   ]
  },
  {
   "cell_type": "markdown",
   "id": "e1142b1d",
   "metadata": {},
   "source": [
    "returns the index of the first occurence of a value"
   ]
  },
  {
   "cell_type": "code",
   "execution_count": 15,
   "id": "34d3cbdd",
   "metadata": {},
   "outputs": [
    {
     "name": "stdout",
     "output_type": "stream",
     "text": [
      "2\n"
     ]
    }
   ],
   "source": [
    "dresses = [\"western\",\"modern\",\"kurta\",\"tops\",\"jeans\"]\n",
    "index = dresses.index(\"kurta\")\n",
    "print(index)"
   ]
  },
  {
   "cell_type": "markdown",
   "id": "82f3d674",
   "metadata": {},
   "source": [
    "###### 7.count()"
   ]
  },
  {
   "cell_type": "markdown",
   "id": "5ec0a402",
   "metadata": {},
   "source": [
    "returns the number of occurence of a value"
   ]
  },
  {
   "cell_type": "code",
   "execution_count": 17,
   "id": "facf975c",
   "metadata": {},
   "outputs": [
    {
     "name": "stdout",
     "output_type": "stream",
     "text": [
      "4\n"
     ]
    }
   ],
   "source": [
    "alphabets = [\"a\",\"b\",\"c\",\"b\",\"d\",\"e\",\"f\",\"d\",\"b\",\"b\",\"f\"]\n",
    "count = alphabets.count(\"b\")\n",
    "print(count)"
   ]
  },
  {
   "cell_type": "markdown",
   "id": "c46efd32",
   "metadata": {},
   "source": [
    "###### 8.sort()"
   ]
  },
  {
   "cell_type": "markdown",
   "id": "82efed54",
   "metadata": {},
   "source": [
    "sorts the list in ascending order"
   ]
  },
  {
   "cell_type": "code",
   "execution_count": 18,
   "id": "236bb6bb",
   "metadata": {},
   "outputs": [
    {
     "name": "stdout",
     "output_type": "stream",
     "text": [
      "['BLack', 'Blue', 'Orange', 'Red', 'yellow']\n"
     ]
    }
   ],
   "source": [
    "colors = [\"Blue\",\"yellow\",\"BLack\",\"Red\",\"Orange\"]\n",
    "colors.sort()\n",
    "print(colors)"
   ]
  },
  {
   "cell_type": "markdown",
   "id": "ed0c8b5a",
   "metadata": {},
   "source": [
    "###### 9.reverse()"
   ]
  },
  {
   "cell_type": "markdown",
   "id": "c6b9ec52",
   "metadata": {},
   "source": [
    "reverse the order of elements in the list"
   ]
  },
  {
   "cell_type": "code",
   "execution_count": 19,
   "id": "db565f51",
   "metadata": {},
   "outputs": [
    {
     "name": "stdout",
     "output_type": "stream",
     "text": [
      "['a', 'b', 'c', 'd', 'e']\n"
     ]
    }
   ],
   "source": [
    "alphabets = [\"e\",\"d\",\"c\",\"b\",\"a\"]\n",
    "alphabets.reverse()\n",
    "print(alphabets)"
   ]
  },
  {
   "cell_type": "code",
   "execution_count": null,
   "id": "830b6fdb",
   "metadata": {},
   "outputs": [],
   "source": []
  }
 ],
 "metadata": {
  "kernelspec": {
   "display_name": "Python 3 (ipykernel)",
   "language": "python",
   "name": "python3"
  },
  "language_info": {
   "codemirror_mode": {
    "name": "ipython",
    "version": 3
   },
   "file_extension": ".py",
   "mimetype": "text/x-python",
   "name": "python",
   "nbconvert_exporter": "python",
   "pygments_lexer": "ipython3",
   "version": "3.10.9"
  }
 },
 "nbformat": 4,
 "nbformat_minor": 5
}
